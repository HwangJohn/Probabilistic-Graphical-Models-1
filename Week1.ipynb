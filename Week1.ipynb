{
  "nbformat": 4,
  "nbformat_minor": 0,
  "metadata": {
    "colab": {
      "name": "Week1.ipynb",
      "version": "0.3.2",
      "views": {},
      "default_view": {},
      "provenance": [],
      "collapsed_sections": []
    },
    "kernelspec": {
      "name": "python3",
      "display_name": "Python 3"
    },
    "accelerator": "GPU"
  },
  "cells": [
    {
      "metadata": {
        "id": "zbzmYKay-AIn",
        "colab_type": "text"
      },
      "cell_type": "markdown",
      "source": [
        "<img src = \"http://cfile23.uf.tistory.com/image/26217B4C5885EED82CCB7A\" width=700 />"
      ]
    },
    {
      "metadata": {
        "id": "JMnF6ZlY9rQ3",
        "colab_type": "text"
      },
      "cell_type": "markdown",
      "source": [
        "## 추론 패턴(Reasoning pattern)\n",
        "\n",
        "* 인과적 추론(Causal Reasoning) \n",
        "* 증거적 추론 Evidential reasoning\n",
        "* Inter-causal Reasoning\n"
      ]
    },
    {
      "metadata": {
        "id": "Ghk9QPD697EA",
        "colab_type": "text"
      },
      "cell_type": "markdown",
      "source": [
        "### 인과적 추론(Causal Reasoning) \n",
        "\n",
        "<img src=\"http://cfile3.uf.tistory.com/image/232ABF4C5885EED9255B7E\" width=600 />\n",
        "\n",
        "추천서를 받을 확률 즉 P(l1)이 0.5라고 가정합니다. 여기서 하나의 변수를 조건으로 삼으면 이러한 확률이 어떻게 변하는지 알아 보겠습니다. 학생의 지능이 낮다($i^{0}$)고 가정해 봅시다. 이러한 경우 학생은 좋은 성적을 받기 어려울 것이므로 추천서를 받을 확률 $P(l^{1}|i^{0})$은 0.39로 떨어 질 것입니다. 조건에 대한 결과를 직관적으로 추론 할 수 있기 때문에 위 경우를 인과적 추론(Causal Reasoning)이라 합니다. 여기에 추가로 수강하는 과목의 난이도가 낮다($d^{0}$)라고 가정해 봅시다. 이 때 학생이 좋은 성적을 받을 확률은 올라가므로, 추천서를 받을 확률$P(l^{1}|i^{0},d^{0})$도 0.51로 증가합니다."
      ]
    },
    {
      "metadata": {
        "id": "lCDwMCkz-qK1",
        "colab_type": "text"
      },
      "cell_type": "markdown",
      "source": [
        "### 증거적 추론 Evidential reasoning\n",
        "\n",
        "<img src=\"http://cfile4.uf.tistory.com/image/27308E4C5885EED9215EE5\" width=600 />\n",
        "\n",
        "다른 예를 하나 더 보겠습니다. 위 예의 경우 증거(Evidence) 즉 하위 노드로 부터 추론 합니다. 따라서 Evidential reasoning에서는 아래에서 위로(Bottom-Up) 추론합니다. 여기서는 성적에 대한 변수를 조건으로 삼아 상위 부모 노드의 변수에 대한 확률을 추론합니다. 위 예에서는 특정 성적일 때 과목의 난이도와 학생의 지능을 추론합니다. 이 학생이 C를 받았다($g^{3}$)고 가정해 봅시다. 아무런 가정이 없을 때 과목이 어려울 확률 $P(d^{1})$은 0.4고 학생이 똑똑할 확률 $P(i^{1})$은 0.3입니다. 여기서 학생의 성적이 낮다고 가정하면 당연하게도 수업이 여려울 확률($P(d^{1}|g^{3})$)은 0.63으로 올라가며, 학생이 똑똑할 확률($P(i^{1}|g^{3})$)은 0.08로 떨어질 것입니다."
      ]
    },
    {
      "metadata": {
        "id": "ZEpQAtNdXG5O",
        "colab_type": "text"
      },
      "cell_type": "markdown",
      "source": [
        "### Inter-causal Reasoning \n",
        "\n",
        "<img src=\"http://cfile2.uf.tistory.com/image/2620354C5885EEDA2EE0CE\" width=600 />\n",
        "\n",
        "조금 더 재미있는 예를 보겠습니다. 위 예는 두 원인 즉 성적의 두 상위 노드인 과목의 난이도와 학생의 지능의 상관관계를 보여 줍니다. 성적이 C일 때 학생이 똑똑할 확률 $P(i^{1}|g^{3})$이 0.08이라고 할때 과목이 어렵다는 조건이 추가되면 위 확률을 어떻게 변할까요? 이러한 경우 확률$P(i^{1}|g^{3},d^{1})$은 0.11로 조금 올라갑니다. 큰 폭으로 올라가지 않는 이유는 수업이 어렵다고 해도 똑똑한 학생이 C를 받기는 경우는 드물기 때문입니다. 이러한 두 원인 사이의 관계는 직접적이지 않고 하위 노드를 거쳐 이어지므로 일반적으로 추론하기가 어렵습니다.   "
      ]
    },
    {
      "metadata": {
        "id": "pw_q8OcfXtiC",
        "colab_type": "text"
      },
      "cell_type": "markdown",
      "source": [
        "<img src=\"http://cfile7.uf.tistory.com/image/2348724C5885EEDB08C2BC\" width=600 />\n",
        "\n",
        "좀 더 잘 이해하기위해 구체적인 예를 살펴보겠습니다. 위에 두 변수 $x^{1}$, $x^{2}$가 있습니다. 고르게 분포되어 있기 때문에 이 변수가 0 또는 1을 가질 확률은 50%입니다. 하위노드 $y$의 값은 상위 노드 값은 or연산한 결과입니다. $x^{1}$, $x^{2}$값에 따라 $y$는 각각 25%확률을 가지는 4개의 상태로 표현됩니다. 이 경우 $x^{1}$, $x^{2}$는 서로 독입적입니다. 이제 $y=1$인 경우를 조건(Condition)으로 삼아 $P(x^{1}|y=1)$, $P(x^{2}|y=1)$에 대해 알아보겠습니다. 이제 경우 상태는 3개가 되며 각각 확률은 33%가 됩니다. 따라서 $P(x^{1}=1|y=1)$은 2/3이고 $P(x^{2}=1|y=1)$도 2/3가 됩니다. 그리고 $P(x^{1}=1,x^{2}=1|y=1)$은 1/3입니다. 따라서 아래 식과 같이 이제 두 변수는 서로 독립적이지 않습니다. \n",
        "$P(x^{1}=1|y=1)×P(x^{2}=1|y=1)=4/9≠1/3=P(x^{1}=1,x^{2}=1|y=1)$ \n",
        "\n",
        "위 예에서 $P(x^{2}=1|y=1)$은 66%였습니다. 이때 $x^{1}$이 1이라는 조건을 추가하면 어떻게 될까요? 위표에서 $x^{1}$이 1인 조건만 남기면 가장 아래 2줄만 남습니다. 따라서 $P(x^{2}=1|y=1,x^{1}=1)$은 50%로 줄어 들게 됩니다. 위 예를 통해 한 노드를 공유하는 두 상위 노드 사이의 관계는 하위 노드가 조건이 될 때 더이상 독립적이지 않으며 서로 영향을 주는 것을 보았습니다. "
      ]
    },
    {
      "metadata": {
        "id": "rNY77O3LYttT",
        "colab_type": "text"
      },
      "cell_type": "markdown",
      "source": [
        "<img src=\"http://cfile29.uf.tistory.com/image/231D994C5885EEDB31F2FD\" width=600 />\n",
        "\n",
        "앞의 학생 예제에서 학생의 성적이 C아 아니라 B인 경우, 성적이 어렵다는 조건을 추가하면 학생이 똑똑할 확률은 이전보다 훨씬 올라가는 것을 볼 수 있습니다. \n",
        "\n",
        "이러한 추론은 일상에서도 자주 볼 수 있습니다. 몸에 열이나고 아픈 경우 혹시 내가 모르는 독감에 걸린 것이 아닐까? 하고 걱정합니다. 이 때 병원에 가서 단순 감기라는 처방을 의사에게 받으면, 진짜 독감에 걸렸을 확률이 있지만 더 이상 걱정하지 않습니다. 왜냐하면 단순 감기라는 처방이 내린 경우 자신이 진짜 독감에 걸렸을 확률은 매우 낮아지기 때문(Evidential reasoning)입니다."
      ]
    },
    {
      "metadata": {
        "id": "KJrOAEY4Y4FX",
        "colab_type": "text"
      },
      "cell_type": "markdown",
      "source": [
        "<img src=\"http://cfile30.uf.tistory.com/image/271CBB4C5885EEDC314E0A\" width=600 />\n",
        "\n",
        "끝으로 더 긴 경로에 대한 추론을 살펴보겠습니다. 앞에서 성적이 C일 때 학생이 똑똑할 확률 $P(i^{1}|g^{3})$이 0.08인 것을 보았습니다. 이때 학생이 SAT에서 좋은 성적을 받았다는 조건을 추가해 보겠습니다. 이러한 경우 확률$P(i^{1}|g^{3},s^{1})$은 급격히 증가합니다. 그렇다면 SAT와 멀리 떨어진 과목의 난이도는 어떻게 될까요? 학생이 똑똑할 확률이 올라 갔으므로, 똑똑한 학생이 낮은 성적을 받았다면 과목의 난이도는 어려울 것입니다. 따라서 이러한 경우 과목의 난이도가 어려울 확률($P(d^{1}|g^{3},s^{1})$) 역시 올라갈 것이라 추론 할수 있습니다. 다음 강의에서 이러한 추론(Inference)을 효과적으로 다루는 방법에 대해 알아보겠습니다. "
      ]
    },
    {
      "metadata": {
        "id": "aYJLrkK1Z0cH",
        "colab_type": "text"
      },
      "cell_type": "markdown",
      "source": [
        "## Flow of probabilistic influence\n",
        "\n",
        "* V-구조(V-structure)\n",
        "* Trail is Active"
      ]
    },
    {
      "metadata": {
        "id": "aY3fGl3malSz",
        "colab_type": "text"
      },
      "cell_type": "markdown",
      "source": [
        "### V-구조(V-structure)\n",
        "\n",
        "<img src=\"http://cfile25.uf.tistory.com/image/2222195058882D3304082F\" width=600 />\n",
        "\n",
        "X, Y가 서로 연결 된 경우, 즉 두 노드가 부모자식 관계일때 둘 사이는 독립적이지 않으므로 서로 영향을 미칩니다. 앞서 살펴 보았던 causal reasoning, evidential reasoning을 떠올려 보면 쉽게 이해가 될 것 입니다. 위의 그래프를 예로 들면 그냥 성적을 c받을 확률과 과목의 난이도가 어려운 경우 성적이 c가 나올 확률은 분명 다를 것입니다. 따라서 D->G일 때 D는 G에 영향을 준다 라고 볼 수 있습니다. 반대의 경우도 비슷한 방법으로 생각할 수 있습니다. 그렇다면 x, y사이에 다른 노드가 있어 간접적으로 영향을 주는 경우는 어떻게 될까요? x,y 사이에 다른 노드 w가 있다고 가정해 봅시다. 위 예에서 과목의 난이도는 성적을 거쳐 추천서와 연결 되어 있습니다. 난이도가 낮으면 성적을 받을 확률은 높아지고 따라서 추천서를 받을 확률이 올라갑니다. 이와 같이 causal reasoning을 통해 이러한 경우 영향을 주는 것을 지난 번에 보았습니다. 그 반대의 경우 역시 evidential reasoning에 의해 영향을 끼칩니다. 그렇다면 위의 성적과 SAT처럼 하나의 부모를 공유하고 있는 두 자식 노드는 어떠한 관계를 가질까요? 만약 학생의 성적이 높다면 학생이 똑똑하다고 추론(causal reasoning) 할 수 있습니다. 따라서 SAT에 대한 확률 분포에도 영향을 미칠 것 입니다. 끝으로 한개의 자식 노드를 공유하는 두 부모 노드 사이는 어떨까요? 위 예에서 다른 정보가 없는 경우 과목의 난이도가 어려웠다고 할 때 학생이 똑똑한지에 대한 답을 줄 수 있을까요? 답은 \"아니오\"입니다. 위 경우 세 노드를 연결한 선이 V모양을 이루고 있기 때문에 이러한 구조를 V-구조(V-structure)라고 부릅니다.    "
      ]
    },
    {
      "metadata": {
        "id": "7-_pQQdgaxr1",
        "colab_type": "text"
      },
      "cell_type": "markdown",
      "source": [
        "<img src =\"http://cfile28.uf.tistory.com/image/245DBB475888328F3612C9\" width=600 />\n",
        "\n",
        "나아가서 베이지안 네트워크에서 어떠한 경우에 한 변수(노드)가 다른 변수에 영향을 주게  될까요? 답은 둘 사이에 v-구조가 없는 경우 입니다. 두 노드 사이에 V 구조가 없다면 한 변수에 대한 조건은 다른 변수의 확률분포에 영향을 끼칩니다. 이러한 경우 Trail is Active 하고 합니다.  "
      ]
    },
    {
      "metadata": {
        "id": "CgkWzyFLa4Rb",
        "colab_type": "text"
      },
      "cell_type": "markdown",
      "source": [
        "<img src=\"http://cfile5.uf.tistory.com/image/2523095058882D33166CDB\" width=600 />\n",
        "\n",
        "좀 더 흥미로운 경우를 보겠습니다. 우리가 Observation(노드의 값이 정해져 있음)셋 Z를 가지고 있는 경우를 다뤄 보겠습니다. 중간 노드인 W가 Z에 속하지 않는 경우 즉 W의 값을 우리가 모르는 경우에 한 변수가 다른 변수에 영향을 끼치는 것은 앞에서 이미 다뤘습니다. 그렇다면 우리가 Observation을 통해 중간 노드의 값을 알고 있다면 어떻게 될까요? 학생의 성적을 알고 있는 경우 과목의 난이도는 추천서 영향을 주지 못합니다. 추천서는 오로지 성적에만 영향을 받고 성적은 이미 결정 되어 버렸기 때문입니다. 반대의 경우도 비슷한 방법을 추론 할 수 있습니다. 학생의 지능이 결정 된 경우 SAT와 성적은 서로 어떠한 관계가 될까요? 둘 역시 지능에 영향을 받기 때문에 서로 아무런 영향을 주지 못합니다. 끝으로 V-구조는 어떻게 될까요? 성적이 결정 된 경우 과목의 난이도와 학생의 지능 사이는 지난 시간에 다룬 inter-causal reasoning에서 서로 영향을 주는 것을 확인 하였습니다. 즉 둘 사이의 중간 노드 W가 Observation 셋 Z에 속한 경우 V-구조에서만 서로 영향을 미칩니다. 중간 노드 W가 Observation 셋 Z에 속하지 않은 경우 V-구조에서는 서로 영향을 미치지 못 합니다."
      ]
    },
    {
      "metadata": {
        "id": "LfWC4C64bCvC",
        "colab_type": "text"
      },
      "cell_type": "markdown",
      "source": [
        "<img src=\"http://cfile24.uf.tistory.com/image/256F274B588832A81DE267\" width=600 />\n",
        "\n",
        "예를 들어 S가 D에 영향을 주려면 어떤한 경우에 가능 할까요? I가 Observation셋 Z에 속한다면 S값이 G에 영향을 주지 못합니다. 따라서 이러한 경우 S는 D에 영향을 주지 못하게 됩니다. 모든 중간 노드가 Z에 속하지 않는 경우 역시 중간에 V-구조가 있으므로 성립하지 못합니다. 따라서 정답은 I는 Z에 속하지 않고 V-구조의 중간 노드인 G가 Z에 속한다면(G의 값이 조건으로 정해져 있다면) S는 D에 영향을 줍니다.   "
      ]
    },
    {
      "metadata": {
        "id": "o5LS4DAobIOp",
        "colab_type": "text"
      },
      "cell_type": "markdown",
      "source": [
        "<img src=\"http://cfile5.uf.tistory.com/image/217B7A4B588832A81BC31B\" width=600 />\n",
        "\n",
        "이제 앞에서 다뤘던  Trail is Active의 정의를 수정하겠습니다. 앞에서는 단순히 경로에 V-구조가 없는 경우라고 했지만 이제 위에서 다룬 내용을 추가하겠습니다. 두 노드 사이의 경로에 있는 모든 V-구조의 중간 노드는 Observation셋 Z에 속해야 하며, 이를 제외한 나머지 노드는 Z에 속하지 않는 경우 Trail is Active가 됩니다.   "
      ]
    },
    {
      "metadata": {
        "id": "FGLXzzNEYz4A",
        "colab_type": "text"
      },
      "cell_type": "markdown",
      "source": [
        "## Quiz"
      ]
    },
    {
      "metadata": {
        "id": "nETAb9Lfbfob",
        "colab_type": "text"
      },
      "cell_type": "markdown",
      "source": [
        "1. Factorization.\n",
        "\n",
        "  Given the same model as above, which of these is an appropriate decomposition of the joint distribution P(A,B,C,E)?\n",
        "  \n",
        "  <img src=\"https://d3c33hcgiwev3.cloudfront.net/imageAssetProxy.v1/Iasrv1W7EealpAoth2FRAw_96299fce9c2566f7d3d6f8458a64ecfb_Screen-Shot-2016-07-29-at-11.33.43-AM.png?expiry=1522454400000&hmac=5rxjb3fgMhmGDALRIfgZNSk1zZdju-i8HO6wMd_Z33c\" />\n",
        "  \n",
        "  (1) $P(A,B,C,E)=P(A)P(B)P(C)P(E)$\n",
        "\n",
        "  (2) $P(A,B,C,E)=P(A)P(B)P(C|A)P(C|B)P(E|A)P(E|C)$\n",
        "\n",
        "  (3) $P(A,B,C,E)=P(A)P(B)P(A,B|C)P(A,C|E)$\n",
        "\n",
        "  (4) $P(A,B,C,E)=P(A)P(B)P(C|A,B)P(E|A,C)$"
      ]
    },
    {
      "metadata": {
        "id": "muJuRkZzcrLx",
        "colab_type": "text"
      },
      "cell_type": "markdown",
      "source": [
        "2.Independent parameters.\n",
        "\n",
        "  How many independent parameters are required to uniquely define the CPD of $C$ (the conditional probability distribution associated with the variable C) in the same graphical model as above, if $A, B,$ and $D$ are binary, and C and E have three values each?\n",
        "\n",
        "  <img src=\"https://d3c33hcgiwev3.cloudfront.net/imageAssetProxy.v1/ZiViNlW7EeaughJrsEVARw_eb11802c3d11124ef7d6c4a4aa6106c9_Screen-Shot-2016-07-29-at-11.36.23-AM.png?expiry=1522454400000&hmac=k3NUn0_8pKFYt10MQQQkWHVvsExlmc87ILE1IZssZRQ\" width=200 />\n",
        "\n",
        "  If you haven't come across the term before, here's a brief explanation: A multinomial distribution over m possibilities $x1,…,xm$ has m parameters, but $m−1$ independent parameters, because we have the constraint that all parameters must sum to 1, so that if you specify $m−1$ of the parameters, the final one is fixed. In a CPD $P(X|Y)$, if $X$ has m values and $Y$ has $k$ values, then we have $k$ distinct multinomial distributions, one for each value of $Y$, and we have $m−1$ independent parameters in each of them, for a total of $k(m−1)$. More generally, in a CPD $P(X|Y^{1},…,Y^{r})$, if each $Y^{i}$ has $k^{i}$ values, we have a total of $k^{1}×…×k^{r}×(m−1)$ independent parameters.\n",
        "\n",
        "  Example: Let's say we have a graphical model that just had $X→Y$, where both variables are binary. In this scenario, we need 1 parameter to define the CPD of $X$. The CPD of $X$ contains two entries $P(X=0)$ and $P(X=1)$. Since the sum of these two entries has to be equal to 1, we only need one parameter to define the CPD.\n",
        "\n",
        "  Now we look at $Y$. The CPD for $Y$ contains 4 entries which correspond to: $P(Y=0|X=0),P(Y=1|X=0),P(Y=0|X=1),P(Y=1|X=1)$. Note that $P(Y=0|X=0)$ and $P(Y=1|X=0)$ should sum to one, so we need 1 independent parameter to describe those two entries; likewise, $P(Y=0|X=1)$ and $P(Y=1|X=1)$ should also sum to 1, so we need 1 independent parameter for those two entries.\n",
        "\n",
        "  Therefore, we need 1 independent parameter to define the CPD of $X$ and 2 independent parameters to define the CPD of $Y$.\n",
        "\n",
        "  (1) 6\n",
        "\n",
        "  (2) 8\n",
        "\n",
        "  (3) 3\n",
        "\n",
        "  (4) 7\n",
        "\n",
        "  (5) 11\n",
        "\n",
        "  (6) 12\n",
        "\n",
        "  (7) 4"
      ]
    },
    {
      "metadata": {
        "id": "UF1CqpFvfCgi",
        "colab_type": "text"
      },
      "cell_type": "markdown",
      "source": [
        "3.*Inter-causal reasoning.\n",
        "\n",
        "Consider the following model for traffic jams in a small town, which we assume can be caused by a car accident, or by a visit from the president (and the accompanying security motorcade).\n",
        "\n",
        "<img src=\"https://d3c33hcgiwev3.cloudfront.net/imageAssetProxy.v1/4X36WwMtEeabsxLXkMIYiw_926e6d507ddaf653c58bf4edb8fdbcaf_Bayesian-Network-Fun-Q9.png?expiry=1522454400000&hmac=vaJDGFMzEhOT_tyBalvUYmWgHgWqNmwOyA6MPP_C9eY\" width=300 />\n",
        "\n",
        "Calculate P(Accident = 1 | Traffic = 1) and P(Accident = 1 | Traffic = 1, President = 1). Separate your answers with a space, e.g., an answer of\n",
        "\n",
        "0.15 0.25\n",
        "\n",
        "means that P(Accident = 1 | Traffic = 1) = 0.15 and P(Accident = 1 | Traffic = 1, President = 1) = 0.25. Round your answers to two decimal places and write a leading zero, like in the example above.\n",
        "\n"
      ]
    },
    {
      "metadata": {
        "id": "KOvlg3aDMQXz",
        "colab_type": "code",
        "colab": {
          "autoexec": {
            "startup": false,
            "wait_interval": 0
          }
        }
      },
      "cell_type": "code",
      "source": [
        "reference : https://matrivian.wordpress.com/2014/02/21/inter-causal-reasoning/ and numi2\n"
      ],
      "execution_count": 0,
      "outputs": []
    },
    {
      "metadata": {
        "id": "x2Mp41cTyVAh",
        "colab_type": "text"
      },
      "cell_type": "markdown",
      "source": [
        "## Intercausal Reasoning in Bayesian Networks with PyMC\n",
        "\n",
        "reference : http://willwolf.io/2017/03/13/intercausal-reasoning-in-bayesian-networks/\n",
        "\n",
        "### Problem setup\n",
        "\n",
        "#### Define component probabilities"
      ]
    },
    {
      "metadata": {
        "id": "DphUCkFR0jxs",
        "colab_type": "code",
        "colab": {
          "autoexec": {
            "startup": false,
            "wait_interval": 0
          },
          "output_extras": [
            {
              "item_id": 19
            }
          ],
          "base_uri": "https://localhost:8080/",
          "height": 467
        },
        "outputId": "2ea56fcc-2755-4bc4-daa1-c1b35e63adc1",
        "executionInfo": {
          "status": "ok",
          "timestamp": 1522311782278,
          "user_tz": -540,
          "elapsed": 9967,
          "user": {
            "displayName": "John Hwang",
            "photoUrl": "https://lh3.googleusercontent.com/a/default-user=s128",
            "userId": "100225940964623691936"
          }
        }
      },
      "cell_type": "code",
      "source": [
        "!pip install pymc3"
      ],
      "execution_count": 27,
      "outputs": [
        {
          "output_type": "stream",
          "text": [
            "Collecting pymc3\n",
            "  Downloading pymc3-3.3-py3-none-any.whl (1.3MB)\n",
            "\u001b[K    100% |████████████████████████████████| 1.3MB 900kB/s \n",
            "\u001b[?25hRequirement already satisfied: h5py>=2.7.0 in /usr/local/lib/python3.6/dist-packages (from pymc3)\n",
            "Collecting tqdm>=4.8.4 (from pymc3)\n",
            "  Downloading tqdm-4.19.9-py2.py3-none-any.whl (52kB)\n",
            "\u001b[K    100% |████████████████████████████████| 61kB 5.8MB/s \n",
            "\u001b[?25hCollecting joblib>=0.9 (from pymc3)\n",
            "  Downloading joblib-0.11-py2.py3-none-any.whl (176kB)\n",
            "\u001b[K    100% |████████████████████████████████| 184kB 5.2MB/s \n",
            "\u001b[?25hRequirement already satisfied: patsy>=0.4.0 in /usr/local/lib/python3.6/dist-packages (from pymc3)\n",
            "Requirement already satisfied: six>=1.10.0 in /usr/local/lib/python3.6/dist-packages (from pymc3)\n",
            "Collecting theano>=1.0.0 (from pymc3)\n",
            "  Downloading Theano-1.0.1.tar.gz (2.8MB)\n",
            "\u001b[K    100% |████████████████████████████████| 2.8MB 446kB/s \n",
            "\u001b[?25hRequirement already satisfied: pandas>=0.18.0 in /usr/local/lib/python3.6/dist-packages (from pymc3)\n",
            "Requirement already satisfied: numpy>=1.7 in /usr/local/lib/python3.6/dist-packages (from h5py>=2.7.0->pymc3)\n",
            "Requirement already satisfied: scipy>=0.14 in /usr/local/lib/python3.6/dist-packages (from theano>=1.0.0->pymc3)\n",
            "Requirement already satisfied: python-dateutil>=2 in /usr/local/lib/python3.6/dist-packages (from pandas>=0.18.0->pymc3)\n",
            "Requirement already satisfied: pytz>=2011k in /usr/local/lib/python3.6/dist-packages (from pandas>=0.18.0->pymc3)\n",
            "Building wheels for collected packages: theano\n",
            "  Running setup.py bdist_wheel for theano ... \u001b[?25l-\b \b\\\b \b|\b \b/\b \b-\b \b\\\b \b|\b \b/\b \bdone\n",
            "\u001b[?25h  Stored in directory: /content/.cache/pip/wheels/46/a2/7d/b4cac381d5151daa9f9e0b3e4e4b65edaea6355ae296c97cf2\n",
            "Successfully built theano\n",
            "Installing collected packages: tqdm, joblib, theano, pymc3\n",
            "Successfully installed joblib-0.11 pymc3-3.3 theano-1.0.1 tqdm-4.19.9\n"
          ],
          "name": "stdout"
        }
      ]
    },
    {
      "metadata": {
        "id": "R1Mpx3khy0eO",
        "colab_type": "code",
        "colab": {
          "autoexec": {
            "startup": false,
            "wait_interval": 0
          }
        }
      },
      "cell_type": "code",
      "source": [
        "import pymc3 as pm\n",
        "from collections import namedtuple\n",
        "import numpy as np\n",
        "import pandas as pd\n",
        "from scipy.optimize import fmin_powell\n",
        "import matplotlib.pyplot as plt\n",
        "import seaborn as sns\n",
        "%matplotlib inline"
      ],
      "execution_count": 0,
      "outputs": []
    },
    {
      "metadata": {
        "id": "wqVQ9BdUfomL",
        "colab_type": "code",
        "colab": {
          "autoexec": {
            "startup": false,
            "wait_interval": 0
          }
        }
      },
      "cell_type": "code",
      "source": [
        "PRESIDENT_PROBABILITY = .05\n",
        "ACCIDENT_PROBABILITY = .12\n",
        "TRAFFIC_PROBABILITY = {(0, 0): .15, (0, 1): .5, (1, 0): .6, (1, 1): .9}\n",
        "TRIALS = 200"
      ],
      "execution_count": 0,
      "outputs": []
    },
    {
      "metadata": {
        "id": "TQBbGrQwygYN",
        "colab_type": "code",
        "colab": {
          "autoexec": {
            "startup": false,
            "wait_interval": 0
          }
        }
      },
      "cell_type": "code",
      "source": [
        "JointInput = namedtuple('JointInput', ['p', 'a'])"
      ],
      "execution_count": 0,
      "outputs": []
    },
    {
      "metadata": {
        "id": "KCh2mYlKy_yw",
        "colab_type": "text"
      },
      "cell_type": "markdown",
      "source": [
        "### Define PyMC sampling parameters\n",
        "\n",
        "We'll need these later on."
      ]
    },
    {
      "metadata": {
        "id": "ldlRXRaMyhk7",
        "colab_type": "code",
        "colab": {
          "autoexec": {
            "startup": false,
            "wait_interval": 0
          }
        }
      },
      "cell_type": "code",
      "source": [
        "N_CHAINS = 4\n",
        "N_SAMPLES = 2000"
      ],
      "execution_count": 0,
      "outputs": []
    },
    {
      "metadata": {
        "id": "HSknsvILzFkW",
        "colab_type": "text"
      },
      "cell_type": "markdown",
      "source": [
        "#### Simulate data"
      ]
    },
    {
      "metadata": {
        "id": "BqwrVKV3zDbY",
        "colab_type": "code",
        "colab": {
          "autoexec": {
            "startup": false,
            "wait_interval": 0
          }
        }
      },
      "cell_type": "code",
      "source": [
        "president = np.random.binomial(n=1, p=PRESIDENT_PROBABILITY, size=TRIALS)\n",
        "accident = np.random.binomial(n=1, p=ACCIDENT_PROBABILITY, size=TRIALS)\n",
        "\n",
        "traffic_probabilities = [TRAFFIC_PROBABILITY[JointInput(p=p, a=a)] for p, a in zip(president, accident)]\n",
        "traffic = np.random.binomial(n=1, p=traffic_probabilities)"
      ],
      "execution_count": 0,
      "outputs": []
    },
    {
      "metadata": {
        "id": "OHxEFDZezIuX",
        "colab_type": "code",
        "colab": {
          "autoexec": {
            "startup": false,
            "wait_interval": 0
          },
          "output_extras": [
            {
              "item_id": 1
            }
          ],
          "base_uri": "https://localhost:8080/",
          "height": 87
        },
        "outputId": "eaca0e26-5941-4208-9b00-be4c60584ad8",
        "executionInfo": {
          "status": "ok",
          "timestamp": 1522310883238,
          "user_tz": -540,
          "elapsed": 494,
          "user": {
            "displayName": "John Hwang",
            "photoUrl": "https://lh3.googleusercontent.com/a/default-user=s128",
            "userId": "100225940964623691936"
          }
        }
      },
      "cell_type": "code",
      "source": [
        "print( f'President Mean: {president.mean()}' )\n",
        "print( f'Accident Mean: {accident.mean()}' )\n",
        "print( f'Traffic Mean: {traffic.mean()}' )"
      ],
      "execution_count": 8,
      "outputs": [
        {
          "output_type": "stream",
          "text": [
            "President Mean: 0.07\n",
            "Accident Mean: 0.105\n",
            "Traffic Mean: 0.255\n"
          ],
          "name": "stdout"
        }
      ]
    },
    {
      "metadata": {
        "id": "l_h2_JAhzKVP",
        "colab_type": "code",
        "colab": {
          "autoexec": {
            "startup": false,
            "wait_interval": 0
          }
        }
      },
      "cell_type": "code",
      "source": [
        "observed_data = pd.DataFrame({'president': president, 'accident': accident, 'traffic': traffic})"
      ],
      "execution_count": 0,
      "outputs": []
    },
    {
      "metadata": {
        "id": "pBrmxIW2zMKY",
        "colab_type": "code",
        "colab": {
          "autoexec": {
            "startup": false,
            "wait_interval": 0
          },
          "output_extras": [
            {
              "item_id": 1
            }
          ],
          "base_uri": "https://localhost:8080/",
          "height": 313
        },
        "outputId": "25560e40-cc71-4589-9324-d59f45a7ebbc",
        "executionInfo": {
          "status": "ok",
          "timestamp": 1522310923653,
          "user_tz": -540,
          "elapsed": 555,
          "user": {
            "displayName": "John Hwang",
            "photoUrl": "https://lh3.googleusercontent.com/a/default-user=s128",
            "userId": "100225940964623691936"
          }
        }
      },
      "cell_type": "code",
      "source": [
        "observed_data.describe()"
      ],
      "execution_count": 14,
      "outputs": [
        {
          "output_type": "execute_result",
          "data": {
            "text/html": [
              "<div>\n",
              "<style scoped>\n",
              "    .dataframe tbody tr th:only-of-type {\n",
              "        vertical-align: middle;\n",
              "    }\n",
              "\n",
              "    .dataframe tbody tr th {\n",
              "        vertical-align: top;\n",
              "    }\n",
              "\n",
              "    .dataframe thead th {\n",
              "        text-align: right;\n",
              "    }\n",
              "</style>\n",
              "<table border=\"1\" class=\"dataframe\">\n",
              "  <thead>\n",
              "    <tr style=\"text-align: right;\">\n",
              "      <th></th>\n",
              "      <th>accident</th>\n",
              "      <th>president</th>\n",
              "      <th>traffic</th>\n",
              "    </tr>\n",
              "  </thead>\n",
              "  <tbody>\n",
              "    <tr>\n",
              "      <th>count</th>\n",
              "      <td>200.000000</td>\n",
              "      <td>200.000000</td>\n",
              "      <td>200.000000</td>\n",
              "    </tr>\n",
              "    <tr>\n",
              "      <th>mean</th>\n",
              "      <td>0.105000</td>\n",
              "      <td>0.070000</td>\n",
              "      <td>0.255000</td>\n",
              "    </tr>\n",
              "    <tr>\n",
              "      <th>std</th>\n",
              "      <td>0.307323</td>\n",
              "      <td>0.255787</td>\n",
              "      <td>0.436955</td>\n",
              "    </tr>\n",
              "    <tr>\n",
              "      <th>min</th>\n",
              "      <td>0.000000</td>\n",
              "      <td>0.000000</td>\n",
              "      <td>0.000000</td>\n",
              "    </tr>\n",
              "    <tr>\n",
              "      <th>25%</th>\n",
              "      <td>0.000000</td>\n",
              "      <td>0.000000</td>\n",
              "      <td>0.000000</td>\n",
              "    </tr>\n",
              "    <tr>\n",
              "      <th>50%</th>\n",
              "      <td>0.000000</td>\n",
              "      <td>0.000000</td>\n",
              "      <td>0.000000</td>\n",
              "    </tr>\n",
              "    <tr>\n",
              "      <th>75%</th>\n",
              "      <td>0.000000</td>\n",
              "      <td>0.000000</td>\n",
              "      <td>1.000000</td>\n",
              "    </tr>\n",
              "    <tr>\n",
              "      <th>max</th>\n",
              "      <td>1.000000</td>\n",
              "      <td>1.000000</td>\n",
              "      <td>1.000000</td>\n",
              "    </tr>\n",
              "  </tbody>\n",
              "</table>\n",
              "</div>"
            ],
            "text/plain": [
              "         accident   president     traffic\n",
              "count  200.000000  200.000000  200.000000\n",
              "mean     0.105000    0.070000    0.255000\n",
              "std      0.307323    0.255787    0.436955\n",
              "min      0.000000    0.000000    0.000000\n",
              "25%      0.000000    0.000000    0.000000\n",
              "50%      0.000000    0.000000    0.000000\n",
              "75%      0.000000    0.000000    1.000000\n",
              "max      1.000000    1.000000    1.000000"
            ]
          },
          "metadata": {
            "tags": []
          },
          "execution_count": 14
        }
      ]
    },
    {
      "metadata": {
        "id": "a3TmcHgMziCT",
        "colab_type": "text"
      },
      "cell_type": "markdown",
      "source": [
        "#### Compute P(president) and P(accident)posteriors"
      ]
    },
    {
      "metadata": {
        "id": "jb-HxUYqzQrl",
        "colab_type": "code",
        "colab": {
          "autoexec": {
            "startup": false,
            "wait_interval": 0
          }
        }
      },
      "cell_type": "code",
      "source": [
        "times_president_observed = sum(president)\n",
        "times_president_not_observed = len(president) - times_president_observed\n",
        "\n",
        "president_probability_samples = np.random.beta(\n",
        "    a=1 + times_president_observed, \n",
        "    b=1 + times_president_not_observed, \n",
        "    size=N_CHAINS*N_SAMPLES\n",
        ")"
      ],
      "execution_count": 0,
      "outputs": []
    },
    {
      "metadata": {
        "id": "Qk0d2mvMz0Ag",
        "colab_type": "code",
        "colab": {
          "autoexec": {
            "startup": false,
            "wait_interval": 0
          }
        }
      },
      "cell_type": "code",
      "source": [
        "times_accident_observed = sum(accident)\n",
        "times_accident_not_observed = len(accident) - times_accident_observed\n",
        "\n",
        "accident_probability_samples = np.random.beta(\n",
        "    a=1 + times_accident_observed, \n",
        "    b=1 + times_accident_not_observed, \n",
        "    size=N_CHAINS*N_SAMPLES\n",
        ")"
      ],
      "execution_count": 0,
      "outputs": []
    },
    {
      "metadata": {
        "id": "ozC7BciQz2jI",
        "colab_type": "text"
      },
      "cell_type": "markdown",
      "source": [
        "#### Compute P(Traffic | President,Accident)posterior\n",
        "\n",
        "$\\text{traffic} \\sim \\text{Binomial}(1, p)\\\\$\n",
        "\n",
        "$\\log\\bigg(\\frac{p}{1 - p}\\bigg) = \\alpha + \\beta_P P + \\beta_A A\\\\$\n",
        "\n",
        "$\\alpha \\sim \\text{Normal}(0, 10)\\\\$\n",
        "\n",
        "$\\beta_P \\sim \\text{Normal}(0, 10)\\\\$\n",
        "\n",
        "$\\beta_A \\sim \\text{Normal}(0, 10)\\\\$"
      ]
    },
    {
      "metadata": {
        "id": "dcriiInZ0Iil",
        "colab_type": "text"
      },
      "cell_type": "markdown",
      "source": [
        "#### Baseline logistic regression"
      ]
    },
    {
      "metadata": {
        "id": "A9QZPsJAz1B4",
        "colab_type": "code",
        "colab": {
          "autoexec": {
            "startup": false,
            "wait_interval": 0
          }
        }
      },
      "cell_type": "code",
      "source": [
        "from sklearn.linear_model import LogisticRegression\n",
        "\n",
        "glm = LogisticRegression()\n",
        "_ = glm.fit(X=observed_data[['president', 'accident']], y=observed_data['traffic'])"
      ],
      "execution_count": 0,
      "outputs": []
    },
    {
      "metadata": {
        "id": "RIU9SmT80KiF",
        "colab_type": "code",
        "colab": {
          "autoexec": {
            "startup": false,
            "wait_interval": 0
          },
          "output_extras": [
            {
              "item_id": 1
            }
          ],
          "base_uri": "https://localhost:8080/",
          "height": 87
        },
        "outputId": "07d0855f-52b4-4889-82ce-184dac6e6dc5",
        "executionInfo": {
          "status": "ok",
          "timestamp": 1522311217514,
          "user_tz": -540,
          "elapsed": 604,
          "user": {
            "displayName": "John Hwang",
            "photoUrl": "https://lh3.googleusercontent.com/a/default-user=s128",
            "userId": "100225940964623691936"
          }
        }
      },
      "cell_type": "code",
      "source": [
        "precision = 5\n",
        "print( f'Estimated intercept: {glm.intercept_[0]:.{precision}}' )\n",
        "print( f'Estimated president coefficient: {glm.coef_[0][0]:.{precision}}' )\n",
        "print( f'Estimated accident coefficient: {glm.coef_[0][1]:.{precision}}' )"
      ],
      "execution_count": 19,
      "outputs": [
        {
          "output_type": "stream",
          "text": [
            "Estimated intercept: -1.2571\n",
            "Estimated president coefficient: 0.42149\n",
            "Estimated accident coefficient: 1.4402\n"
          ],
          "name": "stdout"
        }
      ]
    },
    {
      "metadata": {
        "id": "NeJ4pvec0egh",
        "colab_type": "text"
      },
      "cell_type": "markdown",
      "source": [
        "#### Bayesian logistic regression"
      ]
    },
    {
      "metadata": {
        "id": "P8zLFsck0b6K",
        "colab_type": "code",
        "colab": {
          "autoexec": {
            "startup": false,
            "wait_interval": 0
          },
          "output_extras": [
            {
              "item_id": 43
            }
          ],
          "base_uri": "https://localhost:8080/",
          "height": 170
        },
        "outputId": "892c1a76-16ed-4e9d-c6f9-0496183560de",
        "executionInfo": {
          "status": "ok",
          "timestamp": 1522312708636,
          "user_tz": -540,
          "elapsed": 89576,
          "user": {
            "displayName": "John Hwang",
            "photoUrl": "https://lh3.googleusercontent.com/a/default-user=s128",
            "userId": "100225940964623691936"
          }
        }
      },
      "cell_type": "code",
      "source": [
        "with pm.Model() as model:\n",
        "    priors = {\n",
        "        'Intercept': pm.Normal.dist(mu=0, sd=10),\n",
        "        'president': pm.Normal.dist(mu=0, sd=10),\n",
        "        'accident': pm.Normal.dist(mu=0, sd=10)\n",
        "    }  \n",
        "    pm.glm.GLM.from_formula('traffic ~ president + accident', observed_data, family=pm.glm.families.Binomial(), priors=priors)\n",
        "    start_MAP = pm.find_MAP(fmin=fmin_powell, disp=False)\n",
        "    step = pm.NUTS(scaling=start_MAP)\n",
        "    trace = pm.sample(N_SAMPLES, step=step, njobs=N_CHAINS, progressbar=True)"
      ],
      "execution_count": 43,
      "outputs": [
        {
          "output_type": "stream",
          "text": [
            "/usr/local/lib/python3.6/dist-packages/pymc3/tuning/starting.py:92: UserWarning: In future versions, set the optimization algorithm with a string. For example, use `method=\"L-BFGS-B\"` instead of `fmin=sp.optimize.fmin_l_bfgs_b\"`.\n",
            "  warnings.warn('In future versions, set the optimization algorithm with a string. '\n",
            "logp = -115.67:   3%|▎         | 138/5000 [00:00<00:25, 193.70it/s] \n",
            "/usr/local/lib/python3.6/dist-packages/pymc3/model.py:384: FutureWarning: Conversion of the second argument of issubdtype from `float` to `np.floating` is deprecated. In future, it will be treated as `np.float64 == np.dtype(float).type`.\n",
            "  if not np.issubdtype(var.dtype, float):\n",
            "Multiprocess sampling (4 chains in 4 jobs)\n",
            "NUTS: [accident, president, Intercept]\n",
            "100%|██████████| 2500/2500 [00:08<00:00, 286.38it/s]\n"
          ],
          "name": "stderr"
        }
      ]
    },
    {
      "metadata": {
        "id": "zA61CYzC0g_o",
        "colab_type": "code",
        "colab": {
          "autoexec": {
            "startup": false,
            "wait_interval": 0
          },
          "output_extras": [
            {
              "item_id": 1
            },
            {
              "item_id": 2
            }
          ],
          "base_uri": "https://localhost:8080/",
          "height": 572
        },
        "outputId": "03982759-0ab8-4026-c58e-7976c630f750",
        "executionInfo": {
          "status": "ok",
          "timestamp": 1522312710944,
          "user_tz": -540,
          "elapsed": 2291,
          "user": {
            "displayName": "John Hwang",
            "photoUrl": "https://lh3.googleusercontent.com/a/default-user=s128",
            "userId": "100225940964623691936"
          }
        }
      },
      "cell_type": "code",
      "source": [
        "warmup = 500\n",
        "variables = ['Intercept', 'president', 'accident']\n",
        "\n",
        "pm.traceplot(trace[warmup:], varnames=variables)"
      ],
      "execution_count": 44,
      "outputs": [
        {
          "output_type": "execute_result",
          "data": {
            "text/plain": [
              "array([[<matplotlib.axes._subplots.AxesSubplot object at 0x7fa0856b0198>,\n",
              "        <matplotlib.axes._subplots.AxesSubplot object at 0x7fa085bb8f28>],\n",
              "       [<matplotlib.axes._subplots.AxesSubplot object at 0x7fa085c5c908>,\n",
              "        <matplotlib.axes._subplots.AxesSubplot object at 0x7fa085cbeb70>],\n",
              "       [<matplotlib.axes._subplots.AxesSubplot object at 0x7fa084ec61d0>,\n",
              "        <matplotlib.axes._subplots.AxesSubplot object at 0x7fa083d286a0>]],\n",
              "      dtype=object)"
            ]
          },
          "metadata": {
            "tags": []
          },
          "execution_count": 44
        },
        {
          "output_type": "display_data",
          "data": {
            "image/png": "[encoded data removed]",
            "text/plain": [
              "<matplotlib.figure.Figure at 0x7fa0857c0d30>"
            ]
          },
          "metadata": {
            "tags": []
          }
        }
      ]
    },
    {
      "metadata": {
        "id": "8hbpORQ36uP-",
        "colab_type": "text"
      },
      "cell_type": "markdown",
      "source": [
        "#### Compute counterfactual predictions\n",
        "\n",
        "$\\text{traffic} \\sim \\text{Binomial}(1, p)\\\\$\n",
        "\n",
        "$\\log\\bigg(\\frac{p}{1 - p}\\bigg) = \\alpha + \\beta_P P + \\beta_A A$"
      ]
    },
    {
      "metadata": {
        "id": "c8Kg8ZRa52bY",
        "colab_type": "code",
        "colab": {
          "autoexec": {
            "startup": false,
            "wait_interval": 0
          }
        }
      },
      "cell_type": "code",
      "source": [
        "def sigmoid(z):\n",
        "    return 1 / (1 + np.exp(-z))\n",
        "\n",
        "def compute_counterfactual_predictions(president_value, accident_value, trace=trace):\n",
        "    log_odds_p = trace['Intercept'] + trace['president']*president_value + trace['accident']*accident_value\n",
        "    return sigmoid(log_odds_p)\n",
        "\n",
        "def compute_prediction_interval(predictions, percentile=94):\n",
        "    lower_percentile_bound = (100 - percentile) / 2\n",
        "    upper_percentile_bound = 100 - lower_percentile_bound\n",
        "    return np.percentile(predictions, lower_percentile_bound), np.percentile(predictions, upper_percentile_bound)"
      ],
      "execution_count": 0,
      "outputs": []
    },
    {
      "metadata": {
        "id": "VxZsuHOP63Bd",
        "colab_type": "code",
        "colab": {
          "autoexec": {
            "startup": false,
            "wait_interval": 0
          }
        }
      },
      "cell_type": "code",
      "source": [
        "input_combinations = [(0, 0), (0, 1), (1, 0), (1, 1)]\n",
        "counterfactual_predictions = {}\n",
        "observed_proportions = {}\n",
        "\n",
        "for p, a in input_combinations:\n",
        "    counterfactual_predictions[JointInput(p=p, a=a)] = compute_counterfactual_predictions(p, a)\n",
        "    observed_proportions[JointInput(p=p, a=a)] = \\\n",
        "        observed_data[(observed_data['president'] == p) & (observed_data['accident'] == a)]['traffic'].mean()"
      ],
      "execution_count": 0,
      "outputs": []
    },
    {
      "metadata": {
        "id": "onvjzHjx66MU",
        "colab_type": "text"
      },
      "cell_type": "markdown",
      "source": [
        "#### Plot P(Traffic | President,Accident)posteriors"
      ]
    },
    {
      "metadata": {
        "id": "VINuB_fP64fM",
        "colab_type": "code",
        "colab": {
          "autoexec": {
            "startup": false,
            "wait_interval": 0
          },
          "output_extras": [
            {
              "item_id": 1
            }
          ],
          "base_uri": "https://localhost:8080/",
          "height": 749
        },
        "outputId": "7c2a379d-55d3-4514-963f-1358f83478ca",
        "executionInfo": {
          "status": "ok",
          "timestamp": 1522312976416,
          "user_tz": -540,
          "elapsed": 1439,
          "user": {
            "displayName": "John Hwang",
            "photoUrl": "https://lh3.googleusercontent.com/a/default-user=s128",
            "userId": "100225940964623691936"
          }
        }
      },
      "cell_type": "code",
      "source": [
        "plt.figure(figsize=(18, 12))\n",
        "\n",
        "for subplot_idx, (p, a) in enumerate([(0, 0), (0, 1), (1, 0), (1, 1)]):\n",
        "    predictions = counterfactual_predictions[JointInput(p=p, a=a)]\n",
        "    observed_proportion = observed_proportions[JointInput(p=p, a=a)]\n",
        "    expected_proportion = TRAFFIC_PROBABILITY[JointInput(p=p, a=a)]\n",
        "    \n",
        "    subplot = plt.subplot(221 + subplot_idx)\n",
        "    plt.setp(subplot.get_yticklabels(), visible=False)\n",
        "    plt.hist(predictions, edgecolor='white', linewidth=1, bins=30, alpha=.7)\n",
        "    plt.axvline(observed_proportion, color='green', linestyle='--', label='Observed Proportion')\n",
        "    plt.axvline(expected_proportion, color='#A60628', linestyle='--', label='Expected Proportion')\n",
        "    title = f'Posterior Distribution of \\nP(Traffic = 1 | President = {p}, Accident = {a})'\n",
        "    plt.title(title)\n",
        "    plt.legend()"
      ],
      "execution_count": 49,
      "outputs": [
        {
          "output_type": "display_data",
          "data": {
            "image/png": "[encoded data removed]",
            "text/plain": [
              "<matplotlib.figure.Figure at 0x7fa084f312b0>"
            ]
          },
          "metadata": {
            "tags": []
          }
        }
      ]
    },
    {
      "metadata": {
        "id": "GTawDG6h7Mdo",
        "colab_type": "text"
      },
      "cell_type": "markdown",
      "source": [
        "#### Plot mean and prediction interval for predicted P(traffic)"
      ]
    },
    {
      "metadata": {
        "id": "2c8WavR-68kb",
        "colab_type": "code",
        "colab": {
          "autoexec": {
            "startup": false,
            "wait_interval": 0
          },
          "output_extras": [
            {
              "item_id": 1
            },
            {
              "item_id": 2
            }
          ],
          "base_uri": "https://localhost:8080/",
          "height": 535
        },
        "outputId": "f8ae4c6b-b3ba-4081-ea59-8e11b04bf678",
        "executionInfo": {
          "status": "ok",
          "timestamp": 1522313005335,
          "user_tz": -540,
          "elapsed": 824,
          "user": {
            "displayName": "John Hwang",
            "photoUrl": "https://lh3.googleusercontent.com/a/default-user=s128",
            "userId": "100225940964623691936"
          }
        }
      },
      "cell_type": "code",
      "source": [
        "x = [1, 2, 3, 4]\n",
        "y_observed = list(observed_proportions.values())\n",
        "labels = [(key.p, key.a) for key in observed_proportions.keys()]\n",
        "\n",
        "y_predicted_mean = [counterfactual_predictions[joint_input].mean() for joint_input in counterfactual_predictions]\n",
        "y_predicted_PI = [compute_prediction_interval(counterfactual_predictions[joint_input]) for joint_input in counterfactual_predictions]\n",
        "y_predicted_PI_lower_bound, y_predicted_PI_upper_bound = zip(*y_predicted_PI)\n",
        "\n",
        "plt.figure(figsize=(12, 8))\n",
        "plt.plot(x, y_observed, linewidth=2, label='Observed Proportion')\n",
        "plt.xticks(x, labels)\n",
        "plt.plot(x, y_predicted_mean, linewidth=2, label='Predicted Proportion')\n",
        "plt.fill_between(x, y_predicted_PI_lower_bound, y_predicted_PI_upper_bound, alpha=.1, color='green')\n",
        "plt.title('Counterfactual Predictions of P(Traffic = 1)')\n",
        "plt.legend()\n"
      ],
      "execution_count": 50,
      "outputs": [
        {
          "output_type": "execute_result",
          "data": {
            "text/plain": [
              "<matplotlib.legend.Legend at 0x7fa07fce1400>"
            ]
          },
          "metadata": {
            "tags": []
          },
          "execution_count": 50
        },
        {
          "output_type": "display_data",
          "data": {
            "image/png": "[encoded data removed]",
            "text/plain": [
              "<matplotlib.figure.Figure at 0x7fa0858eecc0>"
            ]
          },
          "metadata": {
            "tags": []
          }
        }
      ]
    },
    {
      "metadata": {
        "id": "8CBhz_TW7Tb5",
        "colab_type": "text"
      },
      "cell_type": "markdown",
      "source": [
        "#### Returning to our original questions\n",
        "\n",
        "Q1. $P(Accident = 1 | Traffic = 1)$\n",
        "\n",
        "Q2. $P(Accident = 1 | Traffic = 1,President = 1)$\n",
        "\n",
        "\n",
        "key pieces :\n",
        "\n",
        "$P(P, A, T) = P(P)P(A)P(T\\ |\\ P, A)$\n",
        "\n",
        "$P(X, Y) = P(X\\ |\\ Y)P(Y)$\n",
        "\n",
        "$P(X\\ |\\ Y) = \\frac{P(Y\\ |\\ X)P(X)}{P(Y)}$"
      ]
    },
    {
      "metadata": {
        "id": "pCd8Mto5755N",
        "colab_type": "text"
      },
      "cell_type": "markdown",
      "source": [
        "$P(\\text{Accident = 1}\\ |\\ \\text{Traffic = 1})$\n",
        "\n",
        "$\\begin{align*}\n",
        "P(A = 1|T = 1)\n",
        "  &= \\frac{P(T = 1 | A = 1)P(A = 1)}{P(T = 1)}\\\\\n",
        "  &= \\frac{P(T = 1, A = 1)P(A = 1)}{P(A = 1)P(T = 1)}\\\\\n",
        "  &= \\frac{P(T = 1, A = 1)}{P(T = 1)}\\\\\n",
        "\\end{align*}$\n",
        "\n",
        "$\\begin{align*}\n",
        "P(T = 1, A = 1)\n",
        "  &= \\sum_{P}P(P, A = 1, T = 1))\\\\\n",
        "  &= P(P = 0, A = 1, T = 1) + P(P = 1, A = 1, T = 1)\\\\\n",
        "  &= P(P = 0)P(A = 1)P(T = 1 \\ |\\  P = 0, A = 1) + P(P = 1)P(A = 1)P(T = 1 \\ |\\  P = 1, A = 1)\n",
        "\\end{align*}$\n",
        "\n",
        "$\\begin{align*}\n",
        "P(T = 1)\n",
        "  &= \\sum_{A, P}P(A, P, T = 1))\\\\\n",
        "  &= \\sum_{A, P}P(A)P(P)P(T = 1\\ |\\ A, P))\\\\\n",
        "  &=\n",
        "    P(A = 0)P(P = 0)P(T = 1\\ |\\ A = 0, P = 0) + P(A = 0)P(P = 1)P(T = 1\\ |\\ A = 0, P = 1) + P(A = 1)P(P = 0)P(T = 1\\ |\\ A = 1, P = 0) + P(A = 1)P(P = 1)P(T = 1\\ |\\ A = 1, P = 1)\n",
        "\\end{align*}$\n",
        "\n"
      ]
    },
    {
      "metadata": {
        "id": "R32P0dmq7QU5",
        "colab_type": "code",
        "colab": {
          "autoexec": {
            "startup": false,
            "wait_interval": 0
          }
        }
      },
      "cell_type": "code",
      "source": [
        "def compute_P_accident_1_given_traffic_1(president_probability, accident_probability, traffic_probability):\n",
        "    P_traffic_1_accident_1 = \\\n",
        "        (1 - president_probability)*(accident_probability)*traffic_probability[JointInput(p=0, a=1)] +\\\n",
        "        (president_probability)*(accident_probability)*traffic_probability[JointInput(p=1, a=1)]\n",
        "\n",
        "    P_traffic_1 = \\\n",
        "        (1 - accident_probability)*(1 - president_probability)*traffic_probability[JointInput(p=0, a=0)] +\\\n",
        "        (1 - accident_probability)*(president_probability)*traffic_probability[JointInput(p=1, a=0)] +\\\n",
        "        (accident_probability)*(1 - president_probability)*traffic_probability[JointInput(p=0, a=1)] +\\\n",
        "        (accident_probability)*(president_probability)*traffic_probability[JointInput(p=1, a=1)]\n",
        "    \n",
        "    P_accident_1_given_traffic_1 = P_traffic_1_accident_1 / P_traffic_1\n",
        "    \n",
        "    return P_accident_1_given_traffic_1"
      ],
      "execution_count": 0,
      "outputs": []
    },
    {
      "metadata": {
        "id": "1G9Fk6le7rrl",
        "colab_type": "code",
        "colab": {
          "autoexec": {
            "startup": false,
            "wait_interval": 0
          }
        }
      },
      "cell_type": "code",
      "source": [
        "P_accident_1_given_traffic_1_point_estimate = \\\n",
        "    compute_P_accident_1_given_traffic_1(PRESIDENT_PROBABILITY,ACCIDENT_PROBABILITY,TRAFFIC_PROBABILITY)\n",
        "    \n",
        "P_accident_1_given_traffic_1_with_uncertainty = \\\n",
        "    compute_P_accident_1_given_traffic_1(president_probability_samples, accident_probability_samples, counterfactual_predictions)"
      ],
      "execution_count": 0,
      "outputs": []
    },
    {
      "metadata": {
        "id": "VuTt0FLj7tK8",
        "colab_type": "code",
        "colab": {
          "autoexec": {
            "startup": false,
            "wait_interval": 0
          },
          "output_extras": [
            {
              "item_id": 1
            },
            {
              "item_id": 2
            }
          ],
          "base_uri": "https://localhost:8080/",
          "height": 555
        },
        "outputId": "437d00b8-d772-4a71-e237-7a016d9f83e4",
        "executionInfo": {
          "status": "ok",
          "timestamp": 1522313147446,
          "user_tz": -540,
          "elapsed": 925,
          "user": {
            "displayName": "John Hwang",
            "photoUrl": "https://lh3.googleusercontent.com/a/default-user=s128",
            "userId": "100225940964623691936"
          }
        }
      },
      "cell_type": "code",
      "source": [
        "color = sns.color_palette()[-1]\n",
        "\n",
        "plt.figure(figsize=(12, 8))\n",
        "plt.hist(P_accident_1_given_traffic_1_with_uncertainty, linewidth=1, bins=25, color=color, edgecolor='white', alpha=.7)\n",
        "plt.title('Posterior Distribution of P(Accident = 1 | Traffic = 1)', fontsize=15)\n",
        "plt.axvline(P_accident_1_given_traffic_1_point_estimate, color='green', linestyle='--', label='Point Estimate')\n",
        "plt.xlabel('Probability', fontsize=14)\n",
        "plt.ylabel('Count', fontsize=14)\n",
        "plt.legend()"
      ],
      "execution_count": 55,
      "outputs": [
        {
          "output_type": "execute_result",
          "data": {
            "text/plain": [
              "<matplotlib.legend.Legend at 0x7fa084fd05c0>"
            ]
          },
          "metadata": {
            "tags": []
          },
          "execution_count": 55
        },
        {
          "output_type": "display_data",
          "data": {
            "image/png": "[encoded data removed]",
            "text/plain": [
              "<matplotlib.figure.Figure at 0x7fa07fcee780>"
            ]
          },
          "metadata": {
            "tags": []
          }
        }
      ]
    },
    {
      "metadata": {
        "id": "901u-yAV8HlP",
        "colab_type": "text"
      },
      "cell_type": "markdown",
      "source": [
        "$P(\\text{Accident = 1}\\ |\\ \\text{Traffic = 1}, \\text{President = 1})$\n",
        "\n",
        "$\\begin{align*}\n",
        "P(A = 1\\ |\\ T = 1, P = 1)\n",
        "  &= \\frac{P(A = 1, T = 1, P = 1)}{P(T = 1, P = 1)}\n",
        "\\end{align*}$\n",
        "\n",
        "$\\begin{align*}\n",
        "P(A = 1, T = 1, P = 1)\n",
        "  &= P(T = 1\\ |\\ A = 1, P = 1)P(A = 1)P(P = 1)\n",
        "\\end{align*}$\n",
        "\n",
        "$\\begin{align*}\n",
        "P(T = 1, P = 1)\n",
        "  &= \\sum_{A}P(A, P = 1, T = 1)\\\\\n",
        "  &= P(A = 0, P = 1, T = 1) + P(A = 1, P = 1, T = 1)\\\\\n",
        "  &= P(T = 1\\ |\\ A = 0, P = 1)P(P = 1)P(A = 0) + P(T = 1\\ |\\ A = 1, P = 1)P(P = 1)P(A = 1)\n",
        "\\end{align*}$"
      ]
    },
    {
      "metadata": {
        "id": "SkJXmgY47ucU",
        "colab_type": "code",
        "colab": {
          "autoexec": {
            "startup": false,
            "wait_interval": 0
          }
        }
      },
      "cell_type": "code",
      "source": [
        "def compute_P_accident_1_given_traffic_1_president_1(president_probability, accident_probability, traffic_probability):\n",
        "    P_accident_1_traffic_1_president_1 = \\\n",
        "        traffic_probability[JointInput(p=1, a=1)]*accident_probability*president_probability\n",
        "        \n",
        "    P_traffic_1_president_1 = \\\n",
        "        traffic_probability[JointInput(p=1, a=0)]*president_probability*(1 - accident_probability) +\\\n",
        "        traffic_probability[JointInput(p=1, a=1)]*president_probability*accident_probability\n",
        "        \n",
        "    P_accident_1_given_traffic_1_president_1 = P_accident_1_traffic_1_president_1 / P_traffic_1_president_1\n",
        "    \n",
        "    return P_accident_1_given_traffic_1_president_1"
      ],
      "execution_count": 0,
      "outputs": []
    },
    {
      "metadata": {
        "id": "lfaNDC6a8RFv",
        "colab_type": "code",
        "colab": {
          "autoexec": {
            "startup": false,
            "wait_interval": 0
          }
        }
      },
      "cell_type": "code",
      "source": [
        "P_accident_1_given_traffic_1_president_1_point_estimate = \\\n",
        "    compute_P_accident_1_given_traffic_1_president_1(PRESIDENT_PROBABILITY,ACCIDENT_PROBABILITY,TRAFFIC_PROBABILITY)\n",
        "    \n",
        "P_accident_1_given_traffic_1_president_1_with_uncertainty = \\\n",
        "    compute_P_accident_1_given_traffic_1_president_1(president_probability_samples, accident_probability_samples, counterfactual_predictions)"
      ],
      "execution_count": 0,
      "outputs": []
    },
    {
      "metadata": {
        "id": "K8Ya_p9m8SJN",
        "colab_type": "code",
        "colab": {
          "autoexec": {
            "startup": false,
            "wait_interval": 0
          },
          "output_extras": [
            {
              "item_id": 1
            },
            {
              "item_id": 2
            }
          ],
          "base_uri": "https://localhost:8080/",
          "height": 555
        },
        "outputId": "14f16668-ec62-4a96-d58a-34fa6c30edaf",
        "executionInfo": {
          "status": "ok",
          "timestamp": 1522313281094,
          "user_tz": -540,
          "elapsed": 857,
          "user": {
            "displayName": "John Hwang",
            "photoUrl": "https://lh3.googleusercontent.com/a/default-user=s128",
            "userId": "100225940964623691936"
          }
        }
      },
      "cell_type": "code",
      "source": [
        "plt.figure(figsize=(12, 8))\n",
        "plt.hist(P_accident_1_given_traffic_1_president_1_with_uncertainty, \n",
        "         bins=25, color=color, linewidth=1, edgecolor='white', alpha=.7)\n",
        "plt.title('Posterior Distribution of P(Accident = 1 | Traffic = 1, President = 1)', fontsize=15)\n",
        "plt.axvline(P_accident_1_given_traffic_1_president_1_point_estimate, color='green', linestyle='--', label='Point Estimate')\n",
        "plt.xlabel('Probability', fontsize=14)\n",
        "plt.ylabel('Count', fontsize=14)\n",
        "plt.legend()"
      ],
      "execution_count": 58,
      "outputs": [
        {
          "output_type": "execute_result",
          "data": {
            "text/plain": [
              "<matplotlib.legend.Legend at 0x7fa085c157b8>"
            ]
          },
          "metadata": {
            "tags": []
          },
          "execution_count": 58
        },
        {
          "output_type": "display_data",
          "data": {
            "image/png": "[encoded data removed]",
            "text/plain": [
              "<matplotlib.figure.Figure at 0x7fa085660860>"
            ]
          },
          "metadata": {
            "tags": []
          }
        }
      ]
    },
    {
      "metadata": {
        "id": "fOeLkh808ToF",
        "colab_type": "code",
        "colab": {
          "autoexec": {
            "startup": false,
            "wait_interval": 0
          }
        }
      },
      "cell_type": "code",
      "source": [
        ""
      ],
      "execution_count": 0,
      "outputs": []
    },
    {
      "metadata": {
        "id": "5sqXf1-d9NaB",
        "colab_type": "text"
      },
      "cell_type": "markdown",
      "source": [
        "## Conditional Independence\n",
        "\n",
        "### 독립(Independence)\n",
        "\n",
        "<img src=\"http://cfile25.uf.tistory.com/image/2553E24C5890861204FB94\" width=600 />\n",
        "\n",
        "위와 같은 식으로 확률분포에서의 독립성을 정의 할 수 있습니다. 위 수식은 두 이벤트 알파, 베타가 있을때 \"알파가 베타에 대해 독립성을 만족\"함을 뜻합니다. 완전히 동일한 세가지 정의로 두 이벤트가 독립적인지를 판단 할 수 있습니다. 첫 번째, 두사건이 결합될 확률(콤마나 교집합으로 표현됨)이 각각 사건의 곱으로 표현 됩니다. 두번째는 조건부 확률입니다. 서로에 대한 조건이 있을 때 이는 확률에 영향을 주지 않습니다. 즉 베타에 대한 조건은 알파의 확률에 영향을 미치지 않습니다. 세번째로 조건부 확률은 대칭성이 있으므로 알파에 대한 조건 역시 베타의 확률에 영향을 주지 않습니다.  "
      ]
    },
    {
      "metadata": {
        "id": "c-sB4Np69hm0",
        "colab_type": "text"
      },
      "cell_type": "markdown",
      "source": [
        "<img src=\"http://cfile6.uf.tistory.com/image/2642334C5890861320BDA9\" width=600 />\n",
        "\n",
        "또한 이러한 독립성은 이벤트 뿐만아니라 무작위 변수에 대해서도 그래로 적용됩니다. "
      ]
    },
    {
      "metadata": {
        "id": "M4tdaOoD9oUA",
        "colab_type": "text"
      },
      "cell_type": "markdown",
      "source": [
        "<img src=\"http://cfile3.uf.tistory.com/image/265DD44C589086131D11BC\" width=600 />\n",
        "\n",
        "학생 성적의 예를 통해 보다 자세히 살펴 보겠습니다. 세가지 변수인 지능(Intelligence), 난이도(Difficulty), 성적(Grade)이 있습니다. 우선 marginal distribution을 통해 G를 소거 하였습니다. 그리고 marginal distribution을 I, D에 대해 각각 수행하여 I, D변수의 확률 분포를 구했습니다. $P(I,D)$는 $P(I)$와 $P(D)$의 곱을 표현 됨을 확인 할 수 있습니다. 위 변수들은 그래프에서 V구조를 띄고 있습니다. 앞에서 V구조에서 두 노드는 서로 관련성이 없다는 것을 떠올려 봅시다.  "
      ]
    },
    {
      "metadata": {
        "id": "LMQP1m539y7x",
        "colab_type": "text"
      },
      "cell_type": "markdown",
      "source": [
        "### 조건부 독립(Conditional Independence)\n",
        "\n",
        "<img src=\"http://cfile25.uf.tistory.com/image/221E464C589086142350FF\" width=600 />\n",
        "\n",
        "이제 더 광범위하게 사용되고 있는 조건부 독립에 대해 살펴 보겠습니다. 랜덤변수 혹은 렌덤변수의 집합에 대한 조건부 독립은 위의 식과 같이 표현됩니다. 앞선 독립성을 표현하는 식에 조건(Condition)을 나타내는 기호가 추가 되었습니다. 위의 세 정의는 앞세서 살펴본 것과 동일합니다. 단지 Z가 조건으로 추가되었습니다. 한가지 재미있는 정의는 X,Y,Z 모두에대한 확률 분포는 X,Z와 Y,Z에대한 확률분포에 \"비례\"한다는 것입니다. "
      ]
    },
    {
      "metadata": {
        "id": "Mun0-nBF97Ka",
        "colab_type": "text"
      },
      "cell_type": "markdown",
      "source": [
        "<img src=\"http://cfile6.uf.tistory.com/image/2165C44C58908615353C6C\" width=600 />\n",
        "\n",
        "한가지 예를 들어 보겠습니다. 여기 모양이 완전히 같은 두 동전이 있습니다. 하지만 하나는 앞,뒤가 나올 확률이 동일하며, 다른 하나는 앞면이 나올 확률이 90%로 편향되어 있습니다. 당신은 여기서 동전을 선택한 다음 두 번 던집니다. 우선 어떤 동전을 선택했는지 모른다고 가정해 봅시다(조건부 확률이 아닌 상황). 이때 처음 던졌을때 앞면이 나왔다면, 그 다음 던졌을 때 앞면이 나올 확률은 어떻게 될까요? 당연히 더 높아 집니다. 앞면이 나올 확률이 편향된 동전을 집었을 가능성이 높기 때문이죠. 따라서 이러한 경우에는 X1,X2가 독립이 아닙니다. 반면 내가 선택한 동전이 뭔지 안다고 가정해 봅시다. 나올 확률이 동일한 동전을 선택했다고 가정하면 첫번째에 앞면이 나왔다고 하더라도 두번째 시도에서 앞면이 나올 확률은 50%로 동일 합니다. 편향된 동전의 경우 역시 첫번째와 두번째 시도에서 앞면이 나올 확률을 각각 90%로 동일합니다. 따라서 이러한 경우 조건부 독립이 성립합니다."
      ]
    },
    {
      "metadata": {
        "id": "ymUEKjwd-Ce-",
        "colab_type": "text"
      },
      "cell_type": "markdown",
      "source": [
        "<img src=\"http://cfile25.uf.tistory.com/image/267F524C5890861628F691\" width=600 />\n",
        "\n",
        "학생 예제를 통해 살펴 보겠습니다. 코인 예제와 비슷하게 여기서는 학생의 지능과 성적 SAT를 통해 살펴 보겠습니다. 우선 $i^{0}$에 대한 조건으로 decompose합니다. 그 다음 각각 S, G 변수에 대한 조건부 확률 분포를 구합니다. 간단한 계산을 통해 두 변수가 조건부 독립임을 확인 할 수 있었습니다. 일반적으로 한 가지 원인에 대한 두 사건의 경우 서로 조건부 독립을 만족합니다.  "
      ]
    },
    {
      "metadata": {
        "id": "85TLHFG--Rwg",
        "colab_type": "text"
      },
      "cell_type": "markdown",
      "source": [
        "<img src=\"http://cfile4.uf.tistory.com/image/27552B4C5890861637575C\" width=600 />\n",
        "\n",
        "그렇다면 v-구조에서는 어떨까요? 앞에서 v-구조에서 자식노드에 대한 조건을 아는 경우 둘 사이의 관련성이 생기는 것을 배웠습니다. 따라서 이러한 경우 두 변수는 조건부 독립 관계가 아닙니다. "
      ]
    },
    {
      "metadata": {
        "id": "pJMozxUp-eX2",
        "colab_type": "text"
      },
      "cell_type": "markdown",
      "source": [
        "## Independencies in Bayesian Networks\n",
        "\n",
        "### Independence and Factorization\n",
        "\n",
        "그래픽 모델에서 가장 재미있는 부분은 여러 변수에 대한 확률 분포를 팩터의 곱으로 분해(Factorization)하는 것입니다. 이를 수행하기 위해서는 독립성(independence)를 만족해야합니다. 베이지안 네트워크를 통해 분해와 독립성이 서로 어떤 연관이 있는지 살펴보겠습니다."
      ]
    },
    {
      "metadata": {
        "id": "1oJ5yy2S-n19",
        "colab_type": "text"
      },
      "cell_type": "markdown",
      "source": [
        "<img src=\"http://cfile21.uf.tistory.com/image/230E9D4B5891D86E108C81\" width=600 />\n",
        "\n",
        "위 식은 앞선 강의에서 본 독립성에 대한 정의입니다. 두 변수의 확률분포가 각 확률분포의 곱으로 표현됩니다. 조건부 독립의 경우도 비슷하게 표현됩니다."
      ]
    },
    {
      "metadata": {
        "id": "zeZz9G8L-sEs",
        "colab_type": "text"
      },
      "cell_type": "markdown",
      "source": [
        "<img src=\"http://cfile28.uf.tistory.com/image/26355B4B5891D86E2E5DF4\" width=600 />\n",
        "\n",
        "이렇듯 두 변수에 대한 확률분포 P를 분해(Factorization)한다는 것은 두 변수가 서로 독립적인 것을 의미합니다. 지금부터는 그래프 G의 변수의 확률분포에 대한 Factorization이 있을 때, 그래프 내 변수들 사이의 독립성을 어떻게 확인 할 수 있는지 알아보겠습니다.  "
      ]
    },
    {
      "metadata": {
        "id": "H3-YGVgA-zq7",
        "colab_type": "text"
      },
      "cell_type": "markdown",
      "source": [
        "<img src=\"http://cfile21.uf.tistory.com/image/256FC64B5891D86F33F37E\" width=600 />\n",
        "\n",
        "위 그래프에서 S와 D가 관련성이 있으려면 G를 보고(조건으로 삼고) 있어야 한다는 것을 지난 강의에서 다뤘습니다. 그리고 두 노드 X,Y와 조건(observation) Z가 주어지고 X, Y사이에 active trail이 없는 상황 즉 두 노드가 서로 관련성이 없을때 두 노드가 d-separated되었다고 정의합니다. 그리고 조건 Z가 주어지고 X,Y 사이에 d-separated 될 때, 두 변수에 대한 조건부 독립을 만족합니다."
      ]
    },
    {
      "metadata": {
        "id": "NUpIkXio-6gB",
        "colab_type": "text"
      },
      "cell_type": "markdown",
      "source": [
        "<img src=\"http://cfile29.uf.tistory.com/image/275B374B5891D87034236B\" width=600 />\n",
        "\n",
        "그렇다면 베이지안 네트워크에서 두 변수가 서로 독립이라는 것은 어떻게 증명할까요? 간단합니다. 그래프 전체에 대한 확률 분포를 구한다음 체인룰을 이용하여 분해합니다. 그리고 두 변수를 제외하고 나머지 변수들을 통합(merge)합니다. 이 때 식이 각 변수에 대한 확률분포의 곱으로 표현된다면 두 변수는 서로 독립입니다. 위에서는 D와 S가 독립임을 증명하고 있습니다. 그리고 D와 S는 독립이므로 d-separated 되었다고 볼 수 있습니다."
      ]
    },
    {
      "metadata": {
        "id": "oWD987dd_LUv",
        "colab_type": "text"
      },
      "cell_type": "markdown",
      "source": [
        "<img src=\"http://cfile5.uf.tistory.com/image/2270594B5891D8710614CA\" width=600 />\n",
        "\n",
        "지금부터는 일반적으로 그래프의 모든 노드가 d-separated됨을 보겠습니다. 우선 non-descendants 개념을 정리 하겠습니다. 하위 노드가 있는 경우 non-descendants라고 합니다. 위 그래프에서 Job, Happy는 descendants 나머지는 non-descendants입니다. non-descendants와 d-separated의 관계를 설명하겠습니다. SAT와 Letter를 예로 들겠습니다. Letter와 SAT는 독립인 관계를 만들수 있을까요? 부모를 노드를 통하는 경로 즉 위쪽 경로(G, I)를 먼저 보겠습니다. 우선 경로 상 V구조가 없으므로 둘사이에 관련성이 있습니다. 따라서 독립은 될 수가 없을 것입니다. 하지만 Grade가 주어진다면(조건이 된다면)앞서 살펴 봤듯이 둘 사이는 관련성이 없어지고 조건부독립관계가 됩니다. 이는 부모노드를 통해 연결되는 모든 변수(Coherence, Difficulty, Intelligence...)들에게도 동일하게 적용됩니다. 즉 부모노드를 조건으로 잡으면 부모노드를 통한 모든 연결(Trail)에 대해서는 독립을 보장할 수 있습니다. 반면 자식노드를 통해 연결 되는 경우는 어떨까요? 이 경우에는 V-구조기 때문에 둘사이에 관련성이 끊어 지게 되며 독립성을 보장 받을 수 있습니다. 따라서 다음과 같이 정리할 수 있습니다. \n",
        "그래프 G에서 non-descendants노드는 모든 상위노드를 조건으로 잡는 경우 독립을 만족합니다. 즉 $(P(L,S|G)=P(L|G)P(S|G)$를 만족하므로 독립입니다."
      ]
    },
    {
      "metadata": {
        "id": "upO0wdIM_TnZ",
        "colab_type": "text"
      },
      "cell_type": "markdown",
      "source": [
        "### I-map\n",
        "\n",
        "<img src=\"http://cfile22.uf.tistory.com/image/253BFB3A589328FD0252DB\" width=600 />\n",
        "\n",
        "그래프의 모든 변수에 대한 확률 분포 P가 독립을 만족하는 경우 그래프 G를 P의 I-map(independency map)이라 정의합니다. "
      ]
    },
    {
      "metadata": {
        "id": "K-j3PIT8_akf",
        "colab_type": "text"
      },
      "cell_type": "markdown",
      "source": [
        "<img src=\"http://cfile21.uf.tistory.com/image/23048A3A589328FE2F0DB8\" widht=600 />\n",
        "\n",
        "두 확률 분포 P1,P2가 있습니다. 그리고 여기에 대한 두 그래프가 아래와 같이 있습니다. G1의 경우 두 변수는 완전히 분리되어 있으며, G2의 경우 D는 I의 상위 노드로 연결되어 있습니다. 따라서 G1의 경우 두 변수가 독립이며, G2의 경우는 아니라는 것을 볼 수 있습니다. Factor로 표현한 확률 분포 표를 통해서도 확인 할 수 있습니다. 여기서 P1의 두 변수는 독립이며 P2의 경우에는 아닙니다. \n",
        "P1은 앞에서 다뤘으므로 P2만 살펴 보겠습니다. $P(i^{0},d^{0})=0.282$입니다. 반면 $P(i^{0})P(d^{0})=0.302∗0.846=0.255492$이므로 서로 독립이 아님을 볼 수 있습니다.  "
      ]
    },
    {
      "metadata": {
        "id": "DvY5iYr8_nqO",
        "colab_type": "text"
      },
      "cell_type": "markdown",
      "source": [
        "<img src=\"http://cfile30.uf.tistory.com/image/261E083A589328FE05A70F\" width=600 />\n",
        "\n",
        "여기서 한 가지 Theorem이 나올 수 있습니다. 그래프 G의 확률 분포 P가 factorize된다면 G는 P의 I-map입니다. "
      ]
    },
    {
      "metadata": {
        "id": "yqHYI21Y_tR1",
        "colab_type": "text"
      },
      "cell_type": "markdown",
      "source": [
        "<img src=\"http://cfile10.uf.tistory.com/image/235A043A589328FF322117\" width=600 />\n",
        "\n",
        "그리고 그 역 역시 성립됩니다. G가 P의 I-map이라면 P를 factorize 할 수 있습니다. 이를 증명해 보겠습니다. 5개 변수에 대한 결합 분포를 일반적인 조건부 확률 분포의 체인 룰로 표현 하면 위와 같습니다. P(D,I)=P(D)P(I|D)임을 떠올려 봅시다. 비이지안 네트워크가 없더라도 이렇게 표현 할 수 있습니다. 이제 이를 위 베이지안 네트워크를 보며 정리 해 보겟습니다. 네트워크 상에서 D와 I는 관련성이 없으므로 P(I|D)=P(I)로 D를 소거 할 수 있습니다. P(S|D,I,G) 역시 I가 부모 노드이므로 I를 조건으로 잡으면 non-descendants를 다루면서 설명했듯이, S는 D, G와 관련성이 없어지므로 소거 할 수 있습니다. 비슷한 방법을 통해 L역시 정리 할 수 있습니다. 이렇게 정리하면 P를 factorize한 결과와 동일한 식을 얻을 수 있습니다. 따라서 위 Theorem이 참인 것을 증명했습니다. "
      ]
    },
    {
      "metadata": {
        "id": "O2RU8vez_0CJ",
        "colab_type": "text"
      },
      "cell_type": "markdown",
      "source": [
        "<img src=\"http://cfile4.uf.tistory.com/image/2338DE3A58932900178335\" width=600 />\n",
        "\n",
        "정리하자면, 그래프 구조에서 Factorization과 I-map은 서로 같은 의미를 가집니다. 그 의미는, 확률분포 P가 특정 그래프에 의해 베이지안 네트워크로 표현된다면 우리는 각 변수들 사이의 독립성에 관해 파악할 수 있다는 뜻입니다. 따라서 특정 변수에 미치는 영향을 알 수 있고, 변수의 확률 분포가 변했을 때 다른 변수들에 어떤 영향을 주는지를 파악할 수 있습니다. 이는 결과나 확률 분포의 구조를 예측하는데 많은 도움이 됩니다.  "
      ]
    },
    {
      "metadata": {
        "id": "i2--E_gx_6g9",
        "colab_type": "text"
      },
      "cell_type": "markdown",
      "source": [
        "## Naive Bayes\n",
        "\n",
        "<img src=\"http://cfile5.uf.tistory.com/image/2633724658951D5805EDBE\" width=600 />\n",
        "\n",
        "베이지안 네트워크(Bayesian Networks) 하위(부분) 클래스를 나이브 베이즈(naive bayes)라 합니다. 그 이유는 독립성에 대한 가정이 매우 단순하고 나이브하기 때문입니다. 단순한 하위클래스지만 때때로 굉장히 유용하게 사용됩니다. 위의 그림은 나이브 베이즈의 한 예입니다. 나이브 베이즈는 상위 인스턴스와 그에 속한 많은 피쳐노드로 이루어져 있습니다. 여기서는 주어진 인스턴스에 의해 하위노드가 관찰되고 있다고 가정합니다. 즉 인스턴스가 조건으로 설정됩니다. 나이브 베이즈를 사용하여 특정 인스턴스가 속한 제한적인 클래스들 중에서 한 클래스에 대한 추론을 할 수 있습니다. 이 부분은 뒤에서 보다 자세히 설명하겠습니다. 이러한 가정(인스턴스 C에의해 관찰되고 있음, C가 조건으로 설정)을 적용하면, 앞서 다뤘듯이 모든 피쳐$(X1...Xn)$는 조건부 독립입니다. 또한 Class는 피쳐 Xi의 상위 노드(부모)이므로 클래스 노드가 관찰되는(Observed)경우 다른 클래스들에 의한 관련성이 차단되고, 다른 클래스와도 독립인 관계가 성립됩니다. 앞서 살펴본 베이지안 네트워크의 체인 룰에 의해 클래스를 포함한 전체 확률 분포는 위의 식과 같이 표현 됩니다."
      ]
    },
    {
      "metadata": {
        "id": "LGAhMvLcACdq",
        "colab_type": "text"
      },
      "cell_type": "markdown",
      "source": [
        "<img src=\"http://cfile4.uf.tistory.com/image/2413784658951D58063DA4\" width=600 />\n",
        "\n",
        "이 모델에 대한 이해를 돕기 위해 두 클래스에 대한 비율에 대해 보겠습니다. 앞 슬라이드의 식을 이용한 다음, 분자 분모의 $P(x1...xn)$을 소거하면 위 식과 같이 정리 됩니다. 위 식을 보면 두 부분에 의해 나눠 집니다. 앞 부분은 두 클래스에 대한 사전 확률$(P(C))$입니다. 두 번째는 각 클래스에의해 변수가 관찰될 때의 확률 즉 조건부 확률의 곱입니다. "
      ]
    },
    {
      "metadata": {
        "id": "vCQ6AncGAKA0",
        "colab_type": "text"
      },
      "cell_type": "markdown",
      "source": [
        "<img src=\"http://cfile9.uf.tistory.com/image/2647C24658951D5908123E\" width=600 />\n",
        "\n",
        "실제 사용되는 텍스트 문서에 대한 예를 보겠습니다. 특정 문서가 있을 때, 이 문서가 애완동물, 금융, 휴가 등 여러 카테고리 중에서 어느 카테고리에 속하는지를 알려고 합니다. 이를 구하기위해 두 나이브 베이스 모델을 사용할 수 있습니다 첫 번째는 베르누이(Bernoulli) 나이브 베이즈입니다. 이 방법은 사전에 있는 모든 단어를 피쳐로 잡은 다음, 문서에 그 피쳐가 나오면 1을 아니면 0인 이진(binary)값을 할당합니다. 따라서 하위 피쳐 노드의 수는 사전에 속한 단어 수(ex. 5,000)와 같습니다.  확률 분포가 0과1 이진 값에 대해 할당되는 베르누이 분포를 띄므로 이 방법을 베르누이 모델이라 부릅니다. 여기서 $P(cat|Label)$는 특정 Label 문서에서 cat이라는 단어가 나올 확률을 의미합니다. 위의 표와 같이 애완 동물 레이블의 문서의 경우 고양이라는 단어가 나올 확률을 0.3인 반면 금융 레이블의 경우에는 0.001로 매우 낮습니다. buy 나 sell과 같은 금융에 관련된 단어가 등장할 확률은 높을 것입니다. 그리고 $P(word|Label)$은 앞서 봤듯이 모든 단어에 대해 조건부 독립입니다. 즉 $P(cat|Label)$과 $P(dog|Label)$는 서로 완전히 독립적입니다. 이 값은 위 표에 있는 것 처럼 우리가 알 수 있으며 따라서 위 식의 우변에 대입 할 수 있습니다.  "
      ]
    },
    {
      "metadata": {
        "id": "gDQDW3vWAYdp",
        "colab_type": "text"
      },
      "cell_type": "markdown",
      "source": [
        "<img src=\"http://cfile25.uf.tistory.com/image/2733C54658951D5A37309B\" width=600 />\n",
        "\n",
        "두 번째는 다항(multi-nomial) naive base model입니다. 이 모델에서 하위 피쳐 노드는 문서에 있는 단어 입니다. 따라서 피쳐노드의 수는 사전에 있는 단어가 아닌 그 문서에 속한 단어 수입니다. 따라서 문서에 737개 단어가 있다면 피쳐의 수는 737입니다. 그리고 위 그림에 있는 임의 변수($W_{i}$)에 대한 값은 실제 단어입니다. 사전에 있는 단어 수가 5000개라면 변수($W_{i}$)에 할당할 수 있는 값 역시 5000개가 될 것입니다. 따라서 변수($W_{i}$)은 더 이상 이진 값에 대한 확률 분포를 가지지 않습니다. 이는 매우 복잡하게 보일 수 있습니다. 위 표처럼 각 클래스들은 사전에 있는 각 단어에 대한 조건부 확률 분포를 가지고 있어야 합니다. 그리고 당연히 그 값의 합은 1이 됩니다. 그리고 앞에서 살펴 봤듯이 모든 변수에 대한 조건부 확률 분포($P(W_{i}|C=c^{i})$)는 독립적입니다. 이 값 역시 위 식의 우변에 대입할 수 있습니다. 따라서 특정 문서가 있을 때 그 문서가 속한 카테고리가 어떻게 되는 지를 대략적으로 추측할 수 있습니다. "
      ]
    },
    {
      "metadata": {
        "id": "gFlTGh6cApfx",
        "colab_type": "text"
      },
      "cell_type": "markdown",
      "source": [
        "<img src=\"http://cfile1.uf.tistory.com/image/2113424658951D5B02B1EA\" width=600 />\n",
        "\n",
        "나이브 베이즈는 분류 작업에 대해 매우 간단한 접근법을 제공합니다. 이는 효율적이며 구성하기도 쉽습니다. text의 예를 살펴보았지만, 여러 도메인에 대해서도 효과적으로 동작합니다. 하지만 각 피쳐가 독립적이라는 가정을 하고 있으므로, 실제 그들 사이에 관련성이 있는 경우 제대로 동작하기 어려운 면이 있습니다. "
      ]
    },
    {
      "metadata": {
        "id": "jIId5bYxAxUa",
        "colab_type": "text"
      },
      "cell_type": "markdown",
      "source": [
        "## Quiz 2"
      ]
    },
    {
      "metadata": {
        "id": "47zggBH4Aytf",
        "colab_type": "text"
      },
      "cell_type": "markdown",
      "source": [
        "1.Independencies in a graph.\n",
        "\n",
        "Which pairs of variables are independent in the graphical model below, given that none of them have been observed? You may select 1 or more options.\n",
        "\n",
        "<img src=\"https://d3c33hcgiwev3.cloudfront.net/imageAssetProxy.v1/cPi91gMtEeaaqg5MSeYjIQ_aed7f4266f05d5fad598ea29e5d5eced_Bayesian-Network-Fun-Q4.png?expiry=1522454400000&hmac=UBG7zX1EmMalzwq0lwJ9OG8-5eZ9oUr8Uo-X7FZqklk\" width=300 />\n",
        "\n",
        "  (1) A, D\n",
        "\n",
        "  (2) D, E\n",
        "\n",
        "  (3) A, C\n",
        "\n",
        "  (4) A, E\n",
        "  \n",
        "  (5) None - there are no pairs of independent variables."
      ]
    },
    {
      "metadata": {
        "id": "CgVVOtiyBGpX",
        "colab_type": "text"
      },
      "cell_type": "markdown",
      "source": [
        "2.*Independencies in a graph. (An asterisk marks a question that is more challenging. Congratulations if you get it right!)\n",
        "\n",
        "Now assume that the value of E is known. (E is observed. A, B, C, and D are not observed.) Which pairs of variables (not including E) are independent in the same graphical model, given E? You may select 1 or more options.\n",
        "\n",
        "<img src=\"https://d3c33hcgiwev3.cloudfront.net/imageAssetProxy.v1/wlBPolW6EeaWRg7WBfqodw_1a9634753a686cf26cc349ead6d3768d_Screen-Shot-2016-07-29-at-11.31.32-AM.png?expiry=1522454400000&hmac=3zq9--sOFf0fl_yFmpCc3GkpZI_Kz3kpRF7GyVyOhu4\" width=300 />\n",
        "\n",
        "None - given E, there are no pairs of variables that are independent.\n",
        "Correct \n",
        "Observing E activates the V-structures around C and E, giving rise to active trails between every pair of variables in the network.\n",
        "\n",
        "  (1) A, B\n",
        "\n",
        "  (2) A, C\n",
        "\n",
        "  (3) A, D\n",
        "\n",
        "  (4) B, D\n",
        "\n",
        "  (5) D, C\n",
        "\n",
        "  (6) B, C"
      ]
    },
    {
      "metadata": {
        "id": "TgNkGs78BWUL",
        "colab_type": "text"
      },
      "cell_type": "markdown",
      "source": [
        "3.I-maps. I-maps can also be defined directly on graphs as follows. Let I(G) be the set of independencies encoded by a graph G. Then G1 is an I-map for G2 if $I(G1)⊆I(G2)$.\n",
        "\n",
        "Which of the following statements about I-maps are true? You may select 1 or more options.\n",
        "\n",
        "  (1) A graph K is an I-map for a graph G if and only if all of the independencies encoded by K are also encoded by G.\n",
        "\n",
        "  (2) A graph K is an I-map for a graph G if and only if K encodes all of the independences that G has and more.\n",
        "\n",
        "  (3) An I-map is a function f that maps a graph G to itself, i.e., f(G)=G.\n",
        "\n",
        "  (4) The graph K that is the same as the graph G, except that all of the edges are oriented in the opposite direction as the corresponding edges in G, is always an I-map for G, regardless of the structure of G.\n",
        "\n",
        "  (5) I-maps are Apple's answer to Google Maps."
      ]
    },
    {
      "metadata": {
        "id": "gD8G4oaEBuco",
        "colab_type": "text"
      },
      "cell_type": "markdown",
      "source": [
        "4.*Naive Bayes.\n",
        "\n",
        "Consider the following Naive Bayes model for flu diagnosis:\n",
        "\n",
        "<img src=\"https://d3c33hcgiwev3.cloudfront.net/imageAssetProxy.v1/wkkSDlW8EeaubA6-qtnryw_5f1254f187d9c65214332769b6ba0558_Screen-Shot-2016-07-29-at-11.45.00-AM.png?expiry=1522454400000&hmac=oOWdVcSWOkGgD_z7Vm5_-fx-dyjZeiJj3NzR6869Q5U\" width=300 />\n",
        "\n",
        "Assume a population size of 10,000. Which of the following statements are true in this model? You may select 1 or more options.\n",
        "\n",
        "  (1) Say we observe that 1000 people have the flu, out of which 500 people have a headache (and possibly other symptoms) and 500 have a fever (and possibly other symptoms). We would expect that approximately 250 people with the flu also have both a headache and fever.\n",
        "  \n",
        "  (2) Say we observe that 1000 people have a headache (and possibly other symptoms), out of which 500 people have the flu (and possibly other symptoms), and 500 people have a fever (and possibly other symptoms). We would expect that approximately 250 people with a headache also have both the flu and a fever.\n",
        "  \n",
        "  (3) Say we observe that 500 people have a headache (and possibly other symptoms) and 500 people have a fever (and possibly other symptoms). Without more information, we cannot estimate how many people have both a headache and fever.\n",
        "  \n",
        "  (4) Say we observe that 500 people have a headache (and possibly other symptoms) and 500 people have a fever (and possibly other symptoms). We would expect that approximately 250 people have both a headache and fever."
      ]
    },
    {
      "metadata": {
        "id": "UlBydgS2CBYd",
        "colab_type": "text"
      },
      "cell_type": "markdown",
      "source": [
        "5.I-maps.\n",
        "\n",
        "Suppose $(A⊥B)∈I(P)$, and G is an I-map of P, where G is a Bayesian network and P is a probability distribution. Is it necessarily true that $(A⊥B)∈I(G)$?\n",
        "\n",
        "  (1) Yes\n",
        "\n",
        "  (2) No"
      ]
    },
    {
      "metadata": {
        "id": "qRwG0GD-CZEC",
        "colab_type": "text"
      },
      "cell_type": "markdown",
      "source": [
        "## Application Medical Diagnosis\n",
        "\n",
        "<img src=\"http://cfile30.uf.tistory.com/image/212F933D589867372E4D6E\" width=600 />\n",
        "\n",
        "베이지안 네트워크의 가장 일반적인 응용법은 진단입니다. 이러한 진단은 질병진단과 결함진단이 있습니다. Heckerman et al은 Pathfinder 시스템 논문으로 ACM 논문상을 수상했습니다. 이 논문에서는 의사사 질병을 진단하는데 도움이 되는 증거(증상)에 대해 다루고 있습니다. 이러한 문제를 해결하기위한 여러 룰이나 방법을 연구했습니다. 첫 번째로 베이지안 네트워크가 사용되기 전, 인공지능에 대한 초기 연구인 룰 베이스 시스템을 적용해보았습니다. 하지만 제대로 동작하지 않았습니다. 그리고 두번째 시도에서는 기존 강의에서 다룬 나이브 베이스 모델을 사용했습니다. 이 모델은 모든 증상을 독립적인 것으로 가정하는 매우 단순한 모델입니다. 하지만 처음 시도한 룰베이스 시스템보다 나은 결과를 보여 줬습니다.  "
      ]
    },
    {
      "metadata": {
        "id": "s_x8q4j9CeWM",
        "colab_type": "text"
      },
      "cell_type": "markdown",
      "source": [
        "<img src=\"http://cfile4.uf.tistory.com/image/252AC83D589867382E73BD\" width=600 />\n",
        "\n",
        "세번째로 나이브 베이스 모델에 공학적 지식을 추가하여 모델을 보다 현실적으로 수정하였습니다. 그 중 하나는 0% 확률을 가지는 경우를 없애는 것이였습니다. 0%를 가지는 경우 전체변수에 대한 확률 분포를 구하기 위해 곱셈을 할때 무조건 결과가 0이 되기 때문에 다른 변수들의 확률을 제대로 반영하지 못 했습니다. 따라서 이러한 가정으로 기존보다 10%가량 성능을 향상시켰습니다. 그리고 확률을 정의 할때 한 질병에서 여러 다른 증상이 발견 될 확률을 구하는 것이 아니라 여러 질병에서 증상이 발견 될 확률을 구하는 것으로 모델을 수정하였습니다. 이러한 식으로 확률 모델을 수정했을 때 보다 더 좋은 결과를 얻었습니다.  "
      ]
    },
    {
      "metadata": {
        "id": "6vd7Y1gxCj-U",
        "colab_type": "text"
      },
      "cell_type": "markdown",
      "source": [
        "<img src=\"http://cfile6.uf.tistory.com/image/274FD93D5898673917527D\" width=600 />\n",
        "\n",
        "마지막 네번째 시도에서 풀 베이지안 네트워크 모델을 구축했습니다. 여기서는 부정확했던 모든 증상(변수)가 독립적이라는 가정을 더 이상하지 않습니다. 그리고 증상에 해당하는 변수는 많은 수의 부모변수를 가지도록 설계되어 예상하지 못한 부작용에 대한 부분도 고려되었습니다. 그리고 이러한 네트워크로 인해 의사는 여러 사례에 대해 생각해 볼 수 있으므로 정확하게 추정 할 수 있습니다. 베이지안 네트워크 모델은 53건의 어려운 질별예측 중 50건을 맞췄으며 이는 나이브 베이즈의 47건에 비해 향상 된 결과를 보여 줍니다. 더 흥미로운 부분은 베이지안 네트워크는 실제 모델을 디자인한 의사보다 때때로 높은 정확도를 보여준다는 점입니다."
      ]
    },
    {
      "metadata": {
        "id": "Ldi4UuyyCpYr",
        "colab_type": "text"
      },
      "cell_type": "markdown",
      "source": [
        "<img src=\"http://cfile2.uf.tistory.com/image/26789B3D5898673A327423\" width=600 />\n",
        "\n",
        "굉장히 복합한 CPCS 네트워크를 보겠습니다. 500여개 변수가 있으며 각 변수당 평균 4개 값을 가지고 있습니다. 따라서 결합확률분포를 계산하면 총 4의 500승 즉 2의 1000승 인 약 1억3천만 개의 경우의 수를 가집니다. 이는 굉장히 많은 수이고 이를 각각 곱해서 확률을 구한다면 많은 수의 곱셉연산이 발생하므로 거의 0이 될 것입니다. 베이지안 네트워크의 가정을 이용해서 이를 간단화 하였고 그 결과 8천개로 줄일 수 있었습니다."
      ]
    },
    {
      "metadata": {
        "id": "ktJXARBZCuHZ",
        "colab_type": "text"
      },
      "cell_type": "markdown",
      "source": [
        "<img src=\"http://cfile22.uf.tistory.com/image/21374B3D5898673B02755B\" width=600 />\n",
        "\n",
        "마이크로소프트에서는 위의 연구에 기반하여 의료 진단 시스템을 구축했습니다. 많은 사람들이 참여 했음에도 불구하고 의료 분야에 빨리 전파되지 못했습니다. 그 이유는 최근까지도 의료기록을 종이에 해왔기 때문입니다.  "
      ]
    },
    {
      "metadata": {
        "id": "HdVdcRVECzxR",
        "colab_type": "text"
      },
      "cell_type": "markdown",
      "source": [
        "<img src=\"http://cfile27.uf.tistory.com/image/264C2A3D5898673C213018\" width=600 />\n",
        "\n",
        "그래서 전자기록 시스템을 파이프파인에 추가하였습니다. 비로써 위 시스템이 효율적으로 사용되기 시작했습니다.  "
      ]
    },
    {
      "metadata": {
        "id": "93AYWAiLC4sg",
        "colab_type": "text"
      },
      "cell_type": "markdown",
      "source": [
        "<img src=\"http://cfile1.uf.tistory.com/image/267D813D5898673D1E8282\" width=600 />\n",
        "\n",
        "윈도우에는 수많은 작은 단위의 문제해결사가 있습니다. 그 중 하나는 이메일, 엑셀등 문서를 인쇄할 때 발생하는 문제를 다루는 프린터 문제해결사입니다. 이러한 문제해결사 역시 간단한 베이지안 네트워크 모델을 사용합니다.  "
      ]
    },
    {
      "metadata": {
        "id": "mIs8tqxSDAzr",
        "colab_type": "text"
      },
      "cell_type": "markdown",
      "source": [
        "<img src=\"http://cfile2.uf.tistory.com/image/227F68455898673E309FDA\" width=600 />\n",
        "\n",
        "베이지안 네트워크 모델은 프린터 문제 뿐만 아니라 자동차 수리에도 사용됩니다. 가령 자동차 모델, 증상, 제작년도 등을 모델의 구성요소로 삼을 수 있을 것입니다. 베이지안 네트워크 모델은 사용자에 대한 매우 유연한 인터페이스를 제공합니다. 네트워크를 뒤에 숨기고 증상을 인스턴스로 넣기만 하면 됩니다. 또한 모델을 설계하기도 쉬우며, 유지 보수에도 유리합니다. 특정 구조가 바뀌는 경우 룰베이스 시스템이라면 전체를 수정해야 하지만, 베이지안 네트워크의 경우 몇몇 노드를 추가하거나 노드 사이의 연결선을 바꾸는 등의 작은 수정으로 잘 반영할 수 있습니다.  "
      ]
    },
    {
      "metadata": {
        "id": "Djgs-XLM9dJw",
        "colab_type": "code",
        "colab": {
          "autoexec": {
            "startup": false,
            "wait_interval": 0
          }
        }
      },
      "cell_type": "code",
      "source": [
        ""
      ],
      "execution_count": 0,
      "outputs": []
    }
  ]
}